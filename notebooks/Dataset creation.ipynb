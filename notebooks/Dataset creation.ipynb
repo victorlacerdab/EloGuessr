{
 "cells": [
  {
   "cell_type": "code",
   "execution_count": 1,
   "id": "6b08bba4",
   "metadata": {},
   "outputs": [
    {
     "data": {
      "text/plain": [
       "<torch._C.Generator at 0x7f742497c150>"
      ]
     },
     "execution_count": 1,
     "metadata": {},
     "output_type": "execute_result"
    }
   ],
   "source": [
    "import time\n",
    "import os\n",
    "import numpy as np\n",
    "import re\n",
    "import json\n",
    "import torch\n",
    "import torch.nn\n",
    "from torch.utils.data import random_split\n",
    "from utils import EloGuessrDset\n",
    "torch.manual_seed(33)"
   ]
  },
  {
   "cell_type": "code",
   "execution_count": 2,
   "id": "abf86b2d",
   "metadata": {},
   "outputs": [],
   "source": [
    "data_dir = '/Home/siv33/vbo084/EloGuessr/data/raw/'"
   ]
  },
  {
   "cell_type": "markdown",
   "id": "df7e0dab",
   "metadata": {},
   "source": [
    "# Functions for loading and extracting features"
   ]
  },
  {
   "cell_type": "code",
   "execution_count": 3,
   "id": "987a62a1",
   "metadata": {},
   "outputs": [],
   "source": [
    "'''\n",
    "Function for doing an initial cleanup.\n",
    "Gets rid of games missing ELO values,\n",
    "Bullet and Variant games, games with\n",
    "Stockfish evals and games played by\n",
    "correspondence.\n",
    "'''\n",
    "\n",
    "def initial_cleanup(game_list):\n",
    "    \n",
    "    wo_bullet = []\n",
    "    game_list_len = len(game_list)\n",
    "    \n",
    "    print(f'The initial dataset has length {game_list_len}')\n",
    "    \n",
    "    # Gets rid of games with Bullet time control, empty games, and short games\n",
    "    for game in game_list:\n",
    "        if game.count('Bullet') > 0:\n",
    "            del game\n",
    "            continue\n",
    "        if game.count('Variant') > 1:\n",
    "            del game\n",
    "            continue\n",
    "        elif game.count('Result') == 0:\n",
    "            del game\n",
    "            continue\n",
    "        elif game.count('eval') > 0:\n",
    "            del game\n",
    "            continue\n",
    "        elif game.count('6.') == 0:\n",
    "            del game\n",
    "            continue\n",
    "        elif game.count('[WhiteElo \"?\"]') > 0:\n",
    "            del game\n",
    "            continue\n",
    "        elif game.count('[BlackElo \"?\"]') > 0:\n",
    "            del game\n",
    "            continue\n",
    "        elif game.count('Correspondence') > 0:\n",
    "            del game\n",
    "            continue\n",
    "        else:\n",
    "            wo_bullet.append(game)\n",
    "    \n",
    "    print(f'The length after cleanup is of {len(wo_bullet)}')\n",
    "    print(f'We have pruned {game_list_len - len(wo_bullet)} games!')\n",
    "    \n",
    "    return wo_bullet"
   ]
  },
  {
   "cell_type": "code",
   "execution_count": 4,
   "id": "c2d48a42",
   "metadata": {},
   "outputs": [],
   "source": [
    "def result_to_int(results_list):\n",
    "    \n",
    "    int_results = []\n",
    "    \n",
    "    for result in results_list:\n",
    "        if result.count(\"White\") > 0:\n",
    "            result = 0\n",
    "        elif result.count(\"Black\") > 0:\n",
    "            result = 1\n",
    "        else:\n",
    "            result = 2\n",
    "        \n",
    "        int_results.append(result)\n",
    "        \n",
    "    return np.array(int_results)"
   ]
  },
  {
   "cell_type": "code",
   "execution_count": 5,
   "id": "57389ac3",
   "metadata": {},
   "outputs": [],
   "source": [
    "def normalize_elo(mean_elo, min_val, max_val):\n",
    "    return (mean_elo - min_val) / (max_val - min_val)    "
   ]
  },
  {
   "cell_type": "code",
   "execution_count": 6,
   "id": "e09bf7c6",
   "metadata": {},
   "outputs": [],
   "source": [
    "'''\n",
    "Function for feature extraction and final cleanup.\n",
    "First returns the game as a string of moves.\n",
    "Then returns who won the game or if it was a draw,\n",
    "and returns the ELO of both players.\n",
    "'''\n",
    "\n",
    "def feature_extraction(game_list: list) -> np.array:\n",
    "    \n",
    "    faulty = []\n",
    "    elo = []\n",
    "    results = []\n",
    "    game_features = []\n",
    "    game_moves = []\n",
    "\n",
    "    draws = 0\n",
    "    black_wins = 0\n",
    "    white_wins = 0\n",
    "    \n",
    "    # Transforms the game into its final str representation format.\n",
    "    for game in game_list:\n",
    "        \n",
    "        features = game[:game.find(\"\\n\\n1.\")].strip()\n",
    "        game_features.append(features)\n",
    "        final_game = game[game.find(\"\\n\\n1.\"):]\n",
    "        \n",
    "        if final_game.find(\"1-0\") > 0:\n",
    "            final_game = final_game[final_game.find(\"1.\"):final_game.find(\"1-0\")]\n",
    "        \n",
    "        elif final_game.find(\"0-1\") > 0:\n",
    "            final_game = final_game[final_game.find(\"1.\"):final_game.find(\"0-1\")]\n",
    "        \n",
    "        elif final_game.find(\"1/2\") > 0:\n",
    "            final_game = final_game[final_game.find(\"1.\"):final_game.find(\"1/2\")]\n",
    "        \n",
    "        game_moves.append(final_game.strip())\n",
    "\n",
    "    # We get the mean ELO for the match\n",
    "    # We make the simplifying (yet justified) assumption that matches have players with similar ELO scores\n",
    "\n",
    "    for game in game_features:\n",
    "        \n",
    "        index1 = game.find(\"[WhiteElo\")\n",
    "        index2 = game.find(\"[WhiteRatingDiff\")\n",
    "        \n",
    "        game = game[index1:index2]\n",
    "        \n",
    "        score = re.findall('\\\\d+', game)[:2]\n",
    "        White_Elo = float(score[0])\n",
    "        Black_Elo = float(score[1]) \n",
    "        mean_elo = (White_Elo + Black_Elo)/2\n",
    "        if mean_elo >= 100 or mean_elo <= 3000:\n",
    "            mean_elo = normalize_elo(mean_elo = mean_elo, min_val=100, max_val=3000)\n",
    "            elo.append(mean_elo)\n",
    "        else:\n",
    "            pass\n",
    "\n",
    "    # Gets the game result (who won or whether it was a draw)\n",
    "    for i, game in enumerate(game_features):\n",
    "        \n",
    "        index = game.find('Result')+8\n",
    "        victory = game[index:index+2]\n",
    "\n",
    "        if victory == \"1-\":\n",
    "            results.append('[WHITE]')\n",
    "            white_wins += 1\n",
    "        elif victory == \"0-\":\n",
    "            results.append('[BLACK]')\n",
    "            black_wins += 1\n",
    "        elif victory == \"1/\":\n",
    "            results.append('[DRAW]')\n",
    "            draws += 1\n",
    "        else:\n",
    "            faulty.append(i)\n",
    "            elo.pop(i)\n",
    "            game_moves.pop(i)\n",
    "\n",
    "    for i, moves in enumerate(game_moves):\n",
    "        game_moves[i] = '[ELO] ' + results[i] + ' ' + moves\n",
    "        #game_moves[i] = moves + ' ' + results[i]\n",
    "    \n",
    "    print(f\"Clean list length: {len(game_moves)}\")\n",
    "    print(f\"Elo list length: {len(elo)}\")\n",
    "    print(f\"Results list length: {len(results)}\")\n",
    "    print(f\"The games at indexes {faulty} are faulty.\")\n",
    "    print(f'White won {white_wins} times, black won {black_wins} times, and there were {draws} draws.')\n",
    "    print(game_moves[0])\n",
    "    # Returns games, ELO and match results as numpy arrays\n",
    "    return np.array(game_moves), np.array(elo), np.array(results)"
   ]
  },
  {
   "cell_type": "code",
   "execution_count": 7,
   "id": "47c0d3c7",
   "metadata": {},
   "outputs": [],
   "source": [
    "from utils import backlash_remover\n",
    "\n",
    "def data_loader(path) -> list:\n",
    "    \n",
    "    a = time.monotonic()\n",
    "    \n",
    "    # Opens the file\n",
    "    with open(path) as f:\n",
    "        data = f.read()\n",
    "    \n",
    "    # Converts the data into string\n",
    "    data = str(data)\n",
    "    \n",
    "    # Divides the file into games\n",
    "    raw_games = data.split('[Event')\n",
    "    del raw_games[0]\n",
    "    del data\n",
    "    \n",
    "    # Gets rid of blitz, correspondence, variants, games without ELO scores, etc\n",
    "    cleaned_matches = initial_cleanup(raw_games)\n",
    "    del raw_games\n",
    "    \n",
    "    # Returns clean text move strings, pairs of elo, match result (who won)\n",
    "    clean, elo, _ = feature_extraction(cleaned_matches)\n",
    "    del cleaned_matches\n",
    "\n",
    "    clean = backlash_remover(clean)\n",
    "    \n",
    "    b = time.monotonic()\n",
    "    print(f'Runtime: {b-a}')\n",
    "    print('')\n",
    "    \n",
    "    return clean, elo"
   ]
  },
  {
   "cell_type": "markdown",
   "id": "631bfae5",
   "metadata": {},
   "source": [
    "# Loading data and cleaning it up"
   ]
  },
  {
   "cell_type": "markdown",
   "id": "52ec3d0b",
   "metadata": {},
   "source": [
    "### Preparing and Merging Datasets"
   ]
  },
  {
   "cell_type": "code",
   "execution_count": 8,
   "id": "4e23eecc",
   "metadata": {},
   "outputs": [],
   "source": [
    "input_fname = '2014_06.pgn'\n",
    "input_huge_fname = 'huge_2016-12.pgn'\n",
    "input_elite_fname = \"elite_2019_06.pgn\"\n",
    "input_elite_fname2 = 'elite_2020_05.pgn'\n",
    "input_elite_fname3 = 'elite_2022_10.pgn'"
   ]
  },
  {
   "cell_type": "code",
   "execution_count": 9,
   "id": "9ae7b55f",
   "metadata": {},
   "outputs": [
    {
     "name": "stdout",
     "output_type": "stream",
     "text": [
      "The initial dataset has length 76809\n",
      "The length after cleanup is of 76793\n",
      "We have pruned 16 games!\n",
      "<class 'float'>\n"
     ]
    },
    {
     "ename": "AttributeError",
     "evalue": "'float' object has no attribute 'append'",
     "output_type": "error",
     "traceback": [
      "\u001b[0;31m---------------------------------------------------------------------------\u001b[0m",
      "\u001b[0;31mAttributeError\u001b[0m                            Traceback (most recent call last)",
      "Cell \u001b[0;32mIn[9], line 1\u001b[0m\n\u001b[0;32m----> 1\u001b[0m elite_clean, elite_elo \u001b[38;5;241m=\u001b[39m \u001b[43mdata_loader\u001b[49m\u001b[43m(\u001b[49m\u001b[43mos\u001b[49m\u001b[38;5;241;43m.\u001b[39;49m\u001b[43mpath\u001b[49m\u001b[38;5;241;43m.\u001b[39;49m\u001b[43mjoin\u001b[49m\u001b[43m(\u001b[49m\u001b[43mdata_dir\u001b[49m\u001b[43m,\u001b[49m\u001b[43m \u001b[49m\u001b[43minput_elite_fname\u001b[49m\u001b[43m)\u001b[49m\u001b[43m)\u001b[49m\n\u001b[1;32m      2\u001b[0m \u001b[38;5;66;03m#elite_clean2, elite_elo2 = data_loader(os.path.join(data_dir, input_elite_fname2))\u001b[39;00m\n\u001b[1;32m      3\u001b[0m \u001b[38;5;66;03m#elite_clean3, elite_elo3 = data_loader(os.path.join(data_dir, input_elite_fname3))\u001b[39;00m\n\u001b[1;32m      4\u001b[0m \u001b[38;5;66;03m#clean, elo = data_loader(os.path.join(data_dir, input_fname))\u001b[39;00m\n\u001b[1;32m      6\u001b[0m final_clean \u001b[38;5;241m=\u001b[39m elite_clean\n",
      "Cell \u001b[0;32mIn[7], line 24\u001b[0m, in \u001b[0;36mdata_loader\u001b[0;34m(path)\u001b[0m\n\u001b[1;32m     21\u001b[0m \u001b[38;5;28;01mdel\u001b[39;00m raw_games\n\u001b[1;32m     23\u001b[0m \u001b[38;5;66;03m# Returns clean text move strings, pairs of elo, match result (who won)\u001b[39;00m\n\u001b[0;32m---> 24\u001b[0m clean, elo, _ \u001b[38;5;241m=\u001b[39m \u001b[43mfeature_extraction\u001b[49m\u001b[43m(\u001b[49m\u001b[43mcleaned_matches\u001b[49m\u001b[43m)\u001b[49m\n\u001b[1;32m     25\u001b[0m \u001b[38;5;28;01mdel\u001b[39;00m cleaned_matches\n\u001b[1;32m     27\u001b[0m clean \u001b[38;5;241m=\u001b[39m backlash_remover(clean)\n",
      "Cell \u001b[0;32mIn[6], line 55\u001b[0m, in \u001b[0;36mfeature_extraction\u001b[0;34m(game_list)\u001b[0m\n\u001b[1;32m     53\u001b[0m \u001b[38;5;28;01mif\u001b[39;00m mean_elo \u001b[38;5;241m>\u001b[39m\u001b[38;5;241m=\u001b[39m \u001b[38;5;241m100\u001b[39m \u001b[38;5;129;01mor\u001b[39;00m mean_elo \u001b[38;5;241m<\u001b[39m\u001b[38;5;241m=\u001b[39m \u001b[38;5;241m3000\u001b[39m:\n\u001b[1;32m     54\u001b[0m     elo \u001b[38;5;241m=\u001b[39m normalize_elo(mean_elo, min_val\u001b[38;5;241m=\u001b[39m\u001b[38;5;241m100\u001b[39m, max_val\u001b[38;5;241m=\u001b[39m\u001b[38;5;241m3000\u001b[39m)\n\u001b[0;32m---> 55\u001b[0m     \u001b[43melo\u001b[49m\u001b[38;5;241;43m.\u001b[39;49m\u001b[43mappend\u001b[49m(mean_elo)\n\u001b[1;32m     56\u001b[0m \u001b[38;5;28;01melse\u001b[39;00m:\n\u001b[1;32m     57\u001b[0m     \u001b[38;5;28;01mpass\u001b[39;00m\n",
      "\u001b[0;31mAttributeError\u001b[0m: 'float' object has no attribute 'append'"
     ]
    }
   ],
   "source": [
    "elite_clean, elite_elo = data_loader(os.path.join(data_dir, input_elite_fname))\n",
    "#elite_clean2, elite_elo2 = data_loader(os.path.join(data_dir, input_elite_fname2))\n",
    "#elite_clean3, elite_elo3 = data_loader(os.path.join(data_dir, input_elite_fname3))\n",
    "#clean, elo = data_loader(os.path.join(data_dir, input_fname))\n",
    "\n",
    "final_clean = elite_clean\n",
    "final_elo = elite_elo"
   ]
  },
  {
   "cell_type": "code",
   "execution_count": null,
   "id": "d189c563",
   "metadata": {},
   "outputs": [],
   "source": [
    "#final_clean = np.concatenate((elite_clean2, clean))\n",
    "#final_elo = np.concatenate((elite_elo2, elo))"
   ]
  },
  {
   "cell_type": "code",
   "execution_count": null,
   "id": "323d8540",
   "metadata": {},
   "outputs": [],
   "source": [
    "#final_clean = np.concatenate((np.concatenate((elite_clean, elite_clean2)), elite_clean3))\n",
    "#final_elo = np.concatenate((np.concatenate((elite_elo, elite_elo2)), elite_elo3))"
   ]
  },
  {
   "cell_type": "code",
   "execution_count": null,
   "id": "c18648c8",
   "metadata": {},
   "outputs": [],
   "source": [
    "def find_duplicate_indices(games_array):\n",
    "    unique_games = set()\n",
    "    duplicate_indices = []\n",
    "\n",
    "    for i, game in enumerate(games_array):\n",
    "        if game in unique_games:\n",
    "            duplicate_indices.append(i)\n",
    "        else:\n",
    "            unique_games.add(game)\n",
    "\n",
    "    return duplicate_indices"
   ]
  },
  {
   "cell_type": "code",
   "execution_count": null,
   "id": "a4dd58b8",
   "metadata": {},
   "outputs": [],
   "source": [
    "duplicate_idcs = find_duplicate_indices(final_clean)\n",
    "print(len(duplicate_idcs))\n",
    "final_clean = np.delete(final_clean, duplicate_idcs)\n",
    "final_elo = np.delete(final_elo, duplicate_idcs)"
   ]
  },
  {
   "cell_type": "code",
   "execution_count": null,
   "id": "9049e2e2",
   "metadata": {},
   "outputs": [],
   "source": [
    "len(final_clean)"
   ]
  },
  {
   "cell_type": "markdown",
   "id": "16b70721",
   "metadata": {},
   "source": [
    "# Creating a vocab and tokenizing the dataset"
   ]
  },
  {
   "cell_type": "code",
   "execution_count": null,
   "id": "a8ace909",
   "metadata": {},
   "outputs": [],
   "source": [
    "class ChessTokenizer():\n",
    "    def __init__(self, dataset, specialtks: list):\n",
    "        self.special_tokens = specialtks\n",
    "        self.decode_vocab = self.get_vocab(dataset, self.special_tokens)\n",
    "        self.encode_vocab = {v:k for k,v in self.decode_vocab.items()}\n",
    "\n",
    "    def get_vocab(self, dataset: list, special_tokens: list) -> dict:\n",
    "        vocab_freq = {}\n",
    "\n",
    "        corpus_str = ' '.join(dataset)\n",
    "\n",
    "        moves = corpus_str.split()\n",
    "        for move in moves:\n",
    "            if move in vocab_freq:\n",
    "                vocab_freq[move] += 1\n",
    "            else:\n",
    "                vocab_freq[move] = 1\n",
    "\n",
    "        filtered_moves = {move: count for move, count in vocab_freq.items() if count >= 1}\n",
    "        vocab = {i: move for i, move in enumerate(filtered_moves.keys())}\n",
    "        vocab_len = len(vocab)\n",
    "        vocab.update({vocab_len + i: token for i, token in enumerate(special_tokens)})\n",
    "\n",
    "        return vocab\n",
    "\n",
    "    def encode(self, game: str) -> list:\n",
    "        encoded_game = [self.encode_vocab.get(move, self.encode_vocab['[UNK]']) for move in game.split()]\n",
    "        return encoded_game\n",
    "\n",
    "    def decode(self, game: list) -> str:\n",
    "        decoded_game = [self.decode_vocab[move] for move in game]\n",
    "        return decoded_game\n",
    "    \n",
    "    def get_dset_distribution(self, encoded_dataset: list) -> dict:\n",
    "        if not all(isinstance(game, list) and all(isinstance(move, int) for move in game) for game in encoded_dataset):\n",
    "            raise ValueError('All elements of encoded_dataset must be lists of integers.')\n",
    "        \n",
    "        length_distribution = {}\n",
    "        for game in encoded_dataset:  \n",
    "            lengame = len(game)\n",
    "            if lengame not in length_distribution.keys():\n",
    "                length_distribution[lengame] = 1\n",
    "            else:\n",
    "                length_distribution[lengame] += 1\n",
    "\n",
    "        length_distribution = {key: length_distribution[key] for key in sorted(length_distribution)}\n",
    "\n",
    "        return length_distribution\n",
    "    \n",
    "    def pad_dataset(self, encoded_dataset: list, labels: list, len_distribution: dict) -> np.array:\n",
    "        \n",
    "        game_lens = sorted(list(len_distribution.keys()))\n",
    "        mid_lens = game_lens[int(len(game_lens) * 0):int(len(game_lens) * 2)]\n",
    "        max_mid = max(mid_lens)\n",
    "        mid_lens = range(284)\n",
    "        max_mid = max(mid_lens)\n",
    "        pad_token = self.encode_vocab['[PAD]']\n",
    "\n",
    "        padded_dataset = []\n",
    "        ordered_labels = []\n",
    "\n",
    "        for i, game in enumerate(encoded_dataset):\n",
    "            if len(game) in mid_lens:\n",
    "                padding = [(max_mid - len(game)) * [pad_token]][0]\n",
    "                padded_game = game + padding\n",
    "                padded_dataset.append(padded_game)\n",
    "                ordered_labels.append(labels[i])\n",
    "\n",
    "        return np.array(padded_dataset), np.array(ordered_labels)"
   ]
  },
  {
   "cell_type": "code",
   "execution_count": null,
   "id": "1073ae0b",
   "metadata": {},
   "outputs": [],
   "source": [
    "special_tokens = [\"[UNK]\", \"[PAD]\", \"[BLACK]\", \"[WHITE]\", \"[DRAW]\", \"[ELO]\"]\n",
    "tokenizer = ChessTokenizer(final_clean, special_tokens)"
   ]
  },
  {
   "cell_type": "markdown",
   "id": "46762d37",
   "metadata": {},
   "source": [
    "# Creating the DataLoaders to train the model"
   ]
  },
  {
   "cell_type": "code",
   "execution_count": null,
   "id": "f83697f4",
   "metadata": {},
   "outputs": [],
   "source": [
    "from utils import plot_gameslendist\n",
    "\n",
    "def create_dataset(tokenizer: ChessTokenizer, dataset_samples: list, dataset_labels: list) -> np.array:\n",
    "\n",
    "    if not all(isinstance(game, str) for game in dataset_samples):\n",
    "        raise ValueError('The elements of dataset_samples must be of type string.')\n",
    "    \n",
    "    encoded_dataset = [(tokenizer.encode(game)) for game in dataset_samples]\n",
    "\n",
    "    plot_gameslendist(encoded_dataset=encoded_dataset, num_buckets=10)\n",
    "\n",
    "    len_distribution = tokenizer.get_dset_distribution(encoded_dataset)\n",
    "    padded_dset, labels = tokenizer.pad_dataset(encoded_dataset, dataset_labels, len_distribution)\n",
    "\n",
    "    return padded_dset, labels"
   ]
  },
  {
   "cell_type": "code",
   "execution_count": null,
   "id": "687d4293",
   "metadata": {},
   "outputs": [],
   "source": [
    "final_clean = final_clean[:20]\n",
    "final_elo = final_elo[:20]"
   ]
  },
  {
   "cell_type": "code",
   "execution_count": null,
   "id": "5a6934c5",
   "metadata": {},
   "outputs": [],
   "source": [
    "from utils import plot_gameslendist\n",
    "\n",
    "padded_samples, labels = create_dataset(tokenizer, final_clean, final_elo)"
   ]
  },
  {
   "cell_type": "code",
   "execution_count": null,
   "id": "d0dd164c",
   "metadata": {},
   "outputs": [],
   "source": [
    "chess_data = EloGuessrDset(padded_samples, labels)"
   ]
  },
  {
   "cell_type": "code",
   "execution_count": null,
   "id": "363ee4da",
   "metadata": {},
   "outputs": [],
   "source": [
    "print(len(chess_data))"
   ]
  },
  {
   "cell_type": "code",
   "execution_count": null,
   "id": "4ded3c99",
   "metadata": {},
   "outputs": [],
   "source": [
    "train_size = int(0.8 * len(chess_data))\n",
    "val_size = int(0.1 * len(chess_data))\n",
    "test_size = len(chess_data) - train_size - val_size"
   ]
  },
  {
   "cell_type": "code",
   "execution_count": null,
   "id": "8704e823",
   "metadata": {},
   "outputs": [],
   "source": [
    "specs ={'pad_idx': tokenizer.encode_vocab['[PAD]'],\n",
    "        'vocab_len': len(tokenizer.decode_vocab.keys()),\n",
    "        'match_len': len(padded_samples[0])}\n",
    "\n",
    "print(specs)"
   ]
  },
  {
   "cell_type": "code",
   "execution_count": null,
   "id": "01983eb2",
   "metadata": {},
   "outputs": [],
   "source": [
    "train_dataset, val_dataset, test_dataset = random_split(chess_data, [train_size, val_size, test_size])"
   ]
  },
  {
   "cell_type": "code",
   "execution_count": null,
   "id": "fd62b693",
   "metadata": {},
   "outputs": [],
   "source": [
    "processed_data_dir = '/Home/siv33/vbo084/EloGuessr/data/processed/'\n",
    "\n",
    "specs_dict_path = os.path.join(processed_data_dir + 'chess_elite_medium.json')\n",
    "\n",
    "# Save the dictionary as a JSON file\n",
    "with open(specs_dict_path, 'w') as json_file:\n",
    "    json.dump(specs, json_file, indent=4)"
   ]
  },
  {
   "cell_type": "code",
   "execution_count": null,
   "id": "08b5f6e0",
   "metadata": {},
   "outputs": [],
   "source": [
    "torch.save(train_dataset, os.path.join(processed_data_dir, 'chess_train_elite_medium.pt'))\n",
    "torch.save(val_dataset, os.path.join(processed_data_dir, 'chess_val_elite_medium.pt'))\n",
    "torch.save(test_dataset, os.path.join(processed_data_dir, 'chess_test_elite_medium.pt'))"
   ]
  }
 ],
 "metadata": {
  "kernelspec": {
   "display_name": "Python 3 (ipykernel)",
   "language": "python",
   "name": "python3"
  },
  "language_info": {
   "codemirror_mode": {
    "name": "ipython",
    "version": 3
   },
   "file_extension": ".py",
   "mimetype": "text/x-python",
   "name": "python",
   "nbconvert_exporter": "python",
   "pygments_lexer": "ipython3",
   "version": "3.12.0"
  }
 },
 "nbformat": 4,
 "nbformat_minor": 5
}
