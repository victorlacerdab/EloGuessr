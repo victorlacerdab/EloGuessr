{
 "cells": [
  {
   "cell_type": "code",
   "execution_count": 1,
   "id": "6b08bba4",
   "metadata": {},
   "outputs": [],
   "source": [
    "import time\n",
    "import os\n",
    "import numpy as np\n",
    "import re\n",
    "import torch\n",
    "import torch.nn\n",
    "from torch.utils.data import Dataset, DataLoader, random_split\n",
    "from utils import EloGuessrDset"
   ]
  },
  {
   "cell_type": "code",
   "execution_count": 2,
   "id": "abf86b2d",
   "metadata": {},
   "outputs": [],
   "source": [
    "data_dir = '/Home/siv33/vbo084/EloGuessr/data/raw/'"
   ]
  },
  {
   "cell_type": "markdown",
   "id": "df7e0dab",
   "metadata": {},
   "source": [
    "# Functions for loading and extracting features"
   ]
  },
  {
   "cell_type": "code",
   "execution_count": 3,
   "id": "987a62a1",
   "metadata": {},
   "outputs": [],
   "source": [
    "'''\n",
    "Function for doing an initial cleanup.\n",
    "Gets rid of games missing ELO values,\n",
    "Bullet and Variant games, games with\n",
    "Stockfish evals and games played by\n",
    "correspondence.\n",
    "'''\n",
    "\n",
    "def initial_cleanup(game_list):\n",
    "    \n",
    "    wo_bullet = []\n",
    "    game_list_len = len(game_list)\n",
    "    \n",
    "    print(f'The initial dataset has length {game_list_len}')\n",
    "    \n",
    "    # Gets rid of games with Bullet time control, empty games, and short games\n",
    "    for game in game_list:\n",
    "        if game.count('Bullet') > 0:\n",
    "            del game\n",
    "            continue\n",
    "        if game.count('Variant') > 1:\n",
    "            del game\n",
    "            continue\n",
    "        elif game.count('Result') == 0:\n",
    "            del game\n",
    "            continue\n",
    "        elif game.count('eval') > 0:\n",
    "            del game\n",
    "            continue\n",
    "        elif game.count('6.') == 0:\n",
    "            del game\n",
    "            continue\n",
    "        elif game.count('[WhiteElo \"?\"]') > 0:\n",
    "            del game\n",
    "            continue\n",
    "        elif game.count('[BlackElo \"?\"]') > 0:\n",
    "            del game\n",
    "            continue\n",
    "        elif game.count('Correspondence') > 0:\n",
    "            del game\n",
    "            continue\n",
    "        else:\n",
    "            wo_bullet.append(game)\n",
    "    \n",
    "    print(f'The length after cleanup is of {len(wo_bullet)}')\n",
    "    print(f'We have pruned {game_list_len - len(wo_bullet)} games!')\n",
    "    \n",
    "    return wo_bullet"
   ]
  },
  {
   "cell_type": "code",
   "execution_count": 4,
   "id": "c2d48a42",
   "metadata": {},
   "outputs": [],
   "source": [
    "def result_to_int(results_list):\n",
    "    \n",
    "    int_results = []\n",
    "    \n",
    "    for result in results_list:\n",
    "        if result.count(\"White\") > 0:\n",
    "            result = 0\n",
    "        elif result.count(\"Black\") > 0:\n",
    "            result = 1\n",
    "        else:\n",
    "            result = 2\n",
    "        \n",
    "        int_results.append(result)\n",
    "        \n",
    "    return np.array(int_results)"
   ]
  },
  {
   "cell_type": "code",
   "execution_count": 5,
   "id": "e09bf7c6",
   "metadata": {},
   "outputs": [],
   "source": [
    "'''\n",
    "Function for feature extraction and final cleanup.\n",
    "First returns the game as a string of moves.\n",
    "Then returns who won the game or if it was a draw,\n",
    "and returns the ELO of both players.\n",
    "'''\n",
    "\n",
    "def feature_extraction(game_list: list) -> np.array:\n",
    "    \n",
    "    faulty = []\n",
    "    elo = []\n",
    "    results = []\n",
    "    game_features = []\n",
    "    game_moves = []\n",
    "    \n",
    "    # Transforms the game into its final str representation format.\n",
    "    for game in game_list:\n",
    "        \n",
    "        features = game[:game.find(\"\\n\\n1.\")].strip()\n",
    "        game_features.append(features)\n",
    "        final_game = game[game.find(\"\\n\\n1.\"):]\n",
    "        \n",
    "        if final_game.find(\"1-0\") > 0:\n",
    "            final_game = final_game[final_game.find(\"1.\"):final_game.find(\"1-0\")]\n",
    "        \n",
    "        elif final_game.find(\"0-1\") > 0:\n",
    "            final_game = final_game[final_game.find(\"1.\"):final_game.find(\"0-1\")]\n",
    "        \n",
    "        elif final_game.find(\"1/2\") > 0:\n",
    "            final_game = final_game[final_game.find(\"1.\"):final_game.find(\"1/2\")]\n",
    "        \n",
    "        game_moves.append(final_game.strip())\n",
    "\n",
    "    # We get the mean ELO for the match\n",
    "    # We make the simplifying (yet justified) assumption that matches have players with similar ELO scores\n",
    "\n",
    "    for game in game_features:\n",
    "        \n",
    "        index1 = game.find(\"[WhiteElo\")\n",
    "        index2 = game.find(\"[WhiteRatingDiff\")\n",
    "        \n",
    "        game = game[index1:index2]\n",
    "        \n",
    "        score = re.findall('\\\\d+', game)[:2]\n",
    "        White_Elo = float(score[0])\n",
    "        Black_Elo = float(score[1]) \n",
    "        mean_elo = (White_Elo + Black_Elo)/2\n",
    "        elo.append(mean_elo)\n",
    "\n",
    "    # Gets the game result (who won or whether it was a draw)\n",
    "    for i, game in enumerate(game_features):\n",
    "        \n",
    "        index = game.find('Result')+8\n",
    "        victory = game[index:index+2]\n",
    "\n",
    "        if victory == \"1-\":\n",
    "            results.append('[WHITE]')\n",
    "        elif victory == \"0-\":\n",
    "            results.append('[BLACK]')\n",
    "        elif victory == \"1/\":\n",
    "            results.append('[DRAW]')\n",
    "        else:\n",
    "            faulty.append(i)\n",
    "            elo.pop(i)\n",
    "            game_moves.pop(i)\n",
    "\n",
    "    for i, moves in enumerate(game_moves):\n",
    "        game_moves[i] = moves + ' ' + results[i]\n",
    "    \n",
    "    print(f\"Clean list length: {len(game_moves)}\")\n",
    "    print(f\"Elo list length: {len(elo)}\")\n",
    "    print(f\"Results list length: {len(results)}\")\n",
    "    print(f\"The games at indexes {faulty} are faulty.\")\n",
    "\n",
    "    # Returns games, ELO and match results as numpy arrays\n",
    "    return np.array(game_moves), np.array(elo), np.array(results)"
   ]
  },
  {
   "cell_type": "code",
   "execution_count": 6,
   "id": "47c0d3c7",
   "metadata": {},
   "outputs": [],
   "source": [
    "def data_loader(path):\n",
    "    \n",
    "    a = time.monotonic()\n",
    "    \n",
    "    # Opens the file\n",
    "    with open(path) as f:\n",
    "        data = f.read()\n",
    "    \n",
    "    # Converts the data into string\n",
    "    data = str(data)\n",
    "    \n",
    "    # Divides the file into games\n",
    "    raw_games = data.split('[Event')\n",
    "    del raw_games[0]\n",
    "    del data\n",
    "    \n",
    "    # Gets rid of blitz, correspondence, variants, games without ELO scores, etc\n",
    "    cleaned_matches = initial_cleanup(raw_games)\n",
    "    del raw_games\n",
    "    \n",
    "    # Returns clean text move strings, pairs of elo, match result (who won)\n",
    "    clean, elo, _ = feature_extraction(cleaned_matches)\n",
    "    del cleaned_matches\n",
    "\n",
    "    # Adds the result of the match as one of special tokens \"[BLACK]\" or \"[WHITE]\"\n",
    "    \n",
    "    b = time.monotonic()\n",
    "    print(f'Runtime: {b-a}')\n",
    "    print('')\n",
    "    \n",
    "    return clean, elo"
   ]
  },
  {
   "cell_type": "markdown",
   "id": "6b6124e3",
   "metadata": {},
   "source": [
    "# Utility functions"
   ]
  },
  {
   "cell_type": "code",
   "execution_count": 7,
   "id": "bfae0a56",
   "metadata": {},
   "outputs": [],
   "source": [
    "def backlash_remover(game_list):\n",
    "    \n",
    "    clean_games = []\n",
    "    \n",
    "    for game in game_list:\n",
    "        game = game.replace(\"\\n\", \" \")\n",
    "        clean_games.append(game)\n",
    "    \n",
    "    return clean_games "
   ]
  },
  {
   "cell_type": "markdown",
   "id": "631bfae5",
   "metadata": {},
   "source": [
    "# Loading data and cleaning it up"
   ]
  },
  {
   "cell_type": "markdown",
   "id": "52ec3d0b",
   "metadata": {},
   "source": [
    "### Preparing and Mergin Datasets"
   ]
  },
  {
   "cell_type": "code",
   "execution_count": 8,
   "id": "4e23eecc",
   "metadata": {},
   "outputs": [],
   "source": [
    "input_fname = '2014_06.pgn'\n",
    "input_elite_fname = \"elite_2019_06.pgn\""
   ]
  },
  {
   "cell_type": "code",
   "execution_count": 9,
   "id": "9ae7b55f",
   "metadata": {},
   "outputs": [
    {
     "name": "stdout",
     "output_type": "stream",
     "text": [
      "The initial dataset has length 76809\n",
      "The length after cleanup is of 76793\n",
      "We have pruned 16 games!\n",
      "Clean list length: 76788\n",
      "Elo list length: 76788\n",
      "Results list length: 76788\n",
      "The games at indexes [51030, 51040, 51044, 71922, 71923] are faulty.\n",
      "Runtime: 2.211481822989299\n",
      "\n"
     ]
    }
   ],
   "source": [
    "elite_clean, elite_elo = data_loader(os.path.join(data_dir, input_elite_fname))"
   ]
  },
  {
   "cell_type": "code",
   "execution_count": 10,
   "id": "4f840aca",
   "metadata": {},
   "outputs": [],
   "source": [
    "# elite_clean, elite_elo = data_loader(os.path.join(data_dir, input_fname))"
   ]
  },
  {
   "cell_type": "markdown",
   "id": "16b70721",
   "metadata": {},
   "source": [
    "# Creating a vocab and tokenizing the dataset"
   ]
  },
  {
   "cell_type": "code",
   "execution_count": 11,
   "id": "a8ace909",
   "metadata": {},
   "outputs": [],
   "source": [
    "class ChessTokenizer():\n",
    "    def __init__(self, dataset, specialtks: list):\n",
    "        self.special_tokens = specialtks\n",
    "        self.decode_vocab = self.get_vocab(dataset, self.special_tokens)\n",
    "        self.encode_vocab = {v:k for k,v in self.decode_vocab.items()}\n",
    "\n",
    "    def get_vocab(self, dataset: list, special_tokens: list) -> dict:\n",
    "        vocab = {}\n",
    "        corpus_str = ' '.join([game for game in dataset])\n",
    "        unique_moves = set(corpus_str.split())\n",
    "\n",
    "        vocab = {i: move for i, move in enumerate(unique_moves)}\n",
    "        vocab_len = len(vocab.keys())\n",
    "        vocab.update({vocab_len + i: token for i, token in enumerate(special_tokens)})\n",
    "        return vocab\n",
    "\n",
    "    def encode(self, game: str) -> list:\n",
    "        encoded_game = [self.encode_vocab.get(move, self.encode_vocab['[UNK]']) for move in game.split()]\n",
    "        return encoded_game\n",
    "\n",
    "    def decode(self, game: list) -> str:\n",
    "        decoded_game = [self.decode_vocab[move] for move in game]\n",
    "        return decoded_game\n",
    "    \n",
    "    def get_dset_distribution(self, encoded_dataset: list) -> dict:\n",
    "        if not all(isinstance(game, list) and all(isinstance(move, int) for move in game) for game in encoded_dataset):\n",
    "            raise ValueError('All elements of encoded_dataset must be lists of integers.')\n",
    "        \n",
    "        length_distribution = {}\n",
    "        for game in encoded_dataset:  \n",
    "            lengame = len(game)\n",
    "            if lengame not in length_distribution.keys():\n",
    "                length_distribution[lengame] = 1\n",
    "            else:\n",
    "                length_distribution[lengame] += 1\n",
    "\n",
    "        length_distribution = {key: length_distribution[key] for key in sorted(length_distribution)}\n",
    "\n",
    "        return length_distribution\n",
    "    \n",
    "    def pad_dataset(self, encoded_dataset: list, labels: list, len_distribution: dict) -> np.array:\n",
    "\n",
    "        game_lens = sorted(list(len_distribution.keys()))\n",
    "        mid_lens = game_lens[int(len(game_lens) * 0.1):int(len(game_lens) * 0.7)]\n",
    "        max_mid = max(mid_lens)\n",
    "        pad_token = self.encode_vocab['[PAD]']\n",
    "\n",
    "        padded_dataset = []\n",
    "        ordered_labels = []\n",
    "\n",
    "        for i, game in enumerate(encoded_dataset):\n",
    "            if len(game) in mid_lens:\n",
    "                padding = [(max_mid - len(game)) * [pad_token]][0]\n",
    "                padded_game = game + padding\n",
    "                padded_dataset.append(padded_game)\n",
    "                ordered_labels.append(labels[i])\n",
    "\n",
    "        return np.array(padded_dataset), np.array(ordered_labels)"
   ]
  },
  {
   "cell_type": "code",
   "execution_count": 12,
   "id": "1073ae0b",
   "metadata": {},
   "outputs": [],
   "source": [
    "special_tokens = [\"[UNK]\", \"[PAD]\", \"[BLACK]\", \"[WHITE]\", \"[DRAW]\"]\n",
    "tokenizer = ChessTokenizer(elite_clean, special_tokens)"
   ]
  },
  {
   "cell_type": "markdown",
   "id": "46762d37",
   "metadata": {},
   "source": [
    "# Creating the DataLoaders to train the model"
   ]
  },
  {
   "cell_type": "code",
   "execution_count": 13,
   "id": "f83697f4",
   "metadata": {},
   "outputs": [],
   "source": [
    "def pad_dataset(tokenizer: ChessTokenizer, dataset_samples: list, dataset_labels: list) -> np.array:\n",
    "\n",
    "    if not all(isinstance(game, str) for game in dataset_samples):\n",
    "        raise ValueError('The elements of dataset_samples must be of type string.')\n",
    "    \n",
    "    encoded_dataset = [(tokenizer.encode(game)) for game in dataset_samples]\n",
    "\n",
    "    len_distribution = tokenizer.get_dset_distribution(encoded_dataset)\n",
    "    padded_dset, labels = tokenizer.pad_dataset(encoded_dataset, dataset_labels, len_distribution)\n",
    "\n",
    "    return padded_dset, labels"
   ]
  },
  {
   "cell_type": "code",
   "execution_count": 14,
   "id": "5a6934c5",
   "metadata": {},
   "outputs": [],
   "source": [
    "padded_samples, labels = pad_dataset(tokenizer, elite_clean, elite_elo)"
   ]
  },
  {
   "cell_type": "code",
   "execution_count": 15,
   "id": "d0dd164c",
   "metadata": {},
   "outputs": [],
   "source": [
    "chess_data = EloGuessrDset(padded_samples, labels)"
   ]
  },
  {
   "cell_type": "code",
   "execution_count": 16,
   "id": "4ded3c99",
   "metadata": {},
   "outputs": [],
   "source": [
    "train_size = int(0.8 * len(chess_data))\n",
    "val_size = int(0.1 * len(chess_data))\n",
    "test_size = len(chess_data) - train_size - val_size"
   ]
  },
  {
   "cell_type": "code",
   "execution_count": 17,
   "id": "5948a9ca",
   "metadata": {},
   "outputs": [
    {
     "data": {
      "text/plain": [
       "6556"
      ]
     },
     "execution_count": 17,
     "metadata": {},
     "output_type": "execute_result"
    }
   ],
   "source": [
    "tokenizer.encode_vocab['[PAD]']"
   ]
  },
  {
   "cell_type": "code",
   "execution_count": 18,
   "id": "2a7b9847",
   "metadata": {},
   "outputs": [
    {
     "name": "stdout",
     "output_type": "stream",
     "text": [
      "6560\n"
     ]
    }
   ],
   "source": [
    "print(len(tokenizer.decode_vocab.keys()))"
   ]
  },
  {
   "cell_type": "code",
   "execution_count": 19,
   "id": "01983eb2",
   "metadata": {},
   "outputs": [],
   "source": [
    "train_dataset, val_dataset, test_dataset = random_split(chess_data, [train_size, val_size, test_size])"
   ]
  },
  {
   "cell_type": "code",
   "execution_count": 20,
   "id": "fd62b693",
   "metadata": {},
   "outputs": [],
   "source": [
    "processed_data_dir = '/Home/siv33/vbo084/EloGuessr/data/processed'\n",
    "\n",
    "torch.save(train_dataset, os.path.join(processed_data_dir, 'chess_train.pt'))\n",
    "torch.save(val_dataset, os.path.join(processed_data_dir, 'chess_val.pt'))\n",
    "torch.save(test_dataset, os.path.join(processed_data_dir, 'chess_test.pt'))"
   ]
  }
 ],
 "metadata": {
  "kernelspec": {
   "display_name": "Python 3 (ipykernel)",
   "language": "python",
   "name": "python3"
  },
  "language_info": {
   "codemirror_mode": {
    "name": "ipython",
    "version": 3
   },
   "file_extension": ".py",
   "mimetype": "text/x-python",
   "name": "python",
   "nbconvert_exporter": "python",
   "pygments_lexer": "ipython3",
   "version": "3.12.0"
  }
 },
 "nbformat": 4,
 "nbformat_minor": 5
}
