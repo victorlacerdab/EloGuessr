{
 "cells": [
  {
   "cell_type": "code",
   "execution_count": 1,
   "id": "6b08bba4",
   "metadata": {},
   "outputs": [
    {
     "data": {
      "text/plain": [
       "<torch._C.Generator at 0x7fe05dec8170>"
      ]
     },
     "execution_count": 1,
     "metadata": {},
     "output_type": "execute_result"
    }
   ],
   "source": [
    "import time\n",
    "import os\n",
    "import numpy as np\n",
    "import re\n",
    "import json\n",
    "import torch\n",
    "import torch.nn\n",
    "from torch.utils.data import random_split\n",
    "from utils import EloGuessrDset\n",
    "torch.manual_seed(99)"
   ]
  },
  {
   "cell_type": "code",
   "execution_count": 2,
   "id": "abf86b2d",
   "metadata": {},
   "outputs": [],
   "source": [
    "data_dir = '/Home/siv33/vbo084/EloGuessr/data/raw/'"
   ]
  },
  {
   "cell_type": "markdown",
   "id": "df7e0dab",
   "metadata": {},
   "source": [
    "# Functions for loading and extracting features"
   ]
  },
  {
   "cell_type": "code",
   "execution_count": 3,
   "id": "987a62a1",
   "metadata": {},
   "outputs": [],
   "source": [
    "'''\n",
    "Function for doing an initial cleanup.\n",
    "Gets rid of games missing ELO values,\n",
    "Bullet and Variant games, games with\n",
    "Stockfish evals and games played by\n",
    "correspondence.\n",
    "'''\n",
    "\n",
    "def initial_cleanup(game_list):\n",
    "    \n",
    "    wo_bullet = []\n",
    "    game_list_len = len(game_list)\n",
    "    \n",
    "    print(f'The initial dataset has length {game_list_len}')\n",
    "    \n",
    "    # Gets rid of games with Bullet time control, empty games, and short games\n",
    "    for game in game_list:\n",
    "        if game.count('Bullet') > 0:\n",
    "            del game\n",
    "            continue\n",
    "        if game.count('Variant') > 1:\n",
    "            del game\n",
    "            continue\n",
    "        elif game.count('Result') == 0:\n",
    "            del game\n",
    "            continue\n",
    "        elif game.count('eval') > 0:\n",
    "            del game\n",
    "            continue\n",
    "        elif game.count('6.') == 0:\n",
    "            del game\n",
    "            continue\n",
    "        elif game.count('[WhiteElo \"?\"]') > 0:\n",
    "            del game\n",
    "            continue\n",
    "        elif game.count('[BlackElo \"?\"]') > 0:\n",
    "            del game\n",
    "            continue\n",
    "        elif game.count('Correspondence') > 0:\n",
    "            del game\n",
    "            continue\n",
    "        else:\n",
    "            wo_bullet.append(game)\n",
    "    \n",
    "    print(f'The length after cleanup is of {len(wo_bullet)}')\n",
    "    print(f'We have pruned {game_list_len - len(wo_bullet)} games!')\n",
    "    \n",
    "    return wo_bullet"
   ]
  },
  {
   "cell_type": "code",
   "execution_count": 4,
   "id": "c2d48a42",
   "metadata": {},
   "outputs": [],
   "source": [
    "def result_to_int(results_list):\n",
    "    \n",
    "    int_results = []\n",
    "    \n",
    "    for result in results_list:\n",
    "        if result.count(\"White\") > 0:\n",
    "            result = 0\n",
    "        elif result.count(\"Black\") > 0:\n",
    "            result = 1\n",
    "        else:\n",
    "            result = 2\n",
    "        \n",
    "        int_results.append(result)\n",
    "        \n",
    "    return np.array(int_results)"
   ]
  },
  {
   "cell_type": "code",
   "execution_count": 5,
   "id": "e09bf7c6",
   "metadata": {},
   "outputs": [],
   "source": [
    "'''\n",
    "Function for feature extraction and final cleanup.\n",
    "First returns the game as a string of moves.\n",
    "Then returns who won the game or if it was a draw,\n",
    "and returns the ELO of both players.\n",
    "'''\n",
    "\n",
    "def feature_extraction(game_list: list) -> np.array:\n",
    "    \n",
    "    faulty = []\n",
    "    elo = []\n",
    "    results = []\n",
    "    game_features = []\n",
    "    game_moves = []\n",
    "\n",
    "    draws = 0\n",
    "    black_wins = 0\n",
    "    white_wins = 0\n",
    "    \n",
    "    # Transforms the game into its final str representation format.\n",
    "    for game in game_list:\n",
    "        \n",
    "        features = game[:game.find(\"\\n\\n1.\")].strip()\n",
    "        game_features.append(features)\n",
    "        final_game = game[game.find(\"\\n\\n1.\"):]\n",
    "        \n",
    "        if final_game.find(\"1-0\") > 0:\n",
    "            final_game = final_game[final_game.find(\"1.\"):final_game.find(\"1-0\")]\n",
    "        \n",
    "        elif final_game.find(\"0-1\") > 0:\n",
    "            final_game = final_game[final_game.find(\"1.\"):final_game.find(\"0-1\")]\n",
    "        \n",
    "        elif final_game.find(\"1/2\") > 0:\n",
    "            final_game = final_game[final_game.find(\"1.\"):final_game.find(\"1/2\")]\n",
    "        \n",
    "        game_moves.append(final_game.strip())\n",
    "\n",
    "    # We get the mean ELO for the match\n",
    "    # We make the simplifying (yet justified) assumption that matches have players with similar ELO scores\n",
    "\n",
    "    for game in game_features:\n",
    "        \n",
    "        index1 = game.find(\"[WhiteElo\")\n",
    "        index2 = game.find(\"[WhiteRatingDiff\")\n",
    "        \n",
    "        game = game[index1:index2]\n",
    "        \n",
    "        score = re.findall('\\\\d+', game)[:2]\n",
    "        White_Elo = float(score[0])\n",
    "        Black_Elo = float(score[1]) \n",
    "        mean_elo = (White_Elo + Black_Elo)/2\n",
    "        elo.append(mean_elo)\n",
    "\n",
    "    # Gets the game result (who won or whether it was a draw)\n",
    "    for i, game in enumerate(game_features):\n",
    "        \n",
    "        index = game.find('Result')+8\n",
    "        victory = game[index:index+2]\n",
    "\n",
    "        if victory == \"1-\":\n",
    "            results.append('[WHITE]')\n",
    "            white_wins += 1\n",
    "        elif victory == \"0-\":\n",
    "            results.append('[BLACK]')\n",
    "            black_wins += 1\n",
    "        elif victory == \"1/\":\n",
    "            results.append('[DRAW]')\n",
    "            draws += 1\n",
    "        else:\n",
    "            faulty.append(i)\n",
    "            elo.pop(i)\n",
    "            game_moves.pop(i)\n",
    "\n",
    "    for i, moves in enumerate(game_moves):\n",
    "        # game_moves[i] = moves + ' ' + results[i] + ' [ELO]'\n",
    "        game_moves[i] = moves + ' ' + results[i]\n",
    "    \n",
    "    print(f\"Clean list length: {len(game_moves)}\")\n",
    "    print(f\"Elo list length: {len(elo)}\")\n",
    "    print(f\"Results list length: {len(results)}\")\n",
    "    print(f\"The games at indexes {faulty} are faulty.\")\n",
    "    print(f'White won {white_wins} times, black won {black_wins} times, and there were {draws} draws.')\n",
    "\n",
    "    # Returns games, ELO and match results as numpy arrays\n",
    "    return np.array(game_moves), np.array(elo), np.array(results)"
   ]
  },
  {
   "cell_type": "code",
   "execution_count": 6,
   "id": "47c0d3c7",
   "metadata": {},
   "outputs": [],
   "source": [
    "from utils import backlash_remover\n",
    "\n",
    "def data_loader(path) -> list:\n",
    "    \n",
    "    a = time.monotonic()\n",
    "    \n",
    "    # Opens the file\n",
    "    with open(path) as f:\n",
    "        data = f.read()\n",
    "    \n",
    "    # Converts the data into string\n",
    "    data = str(data)\n",
    "    \n",
    "    # Divides the file into games\n",
    "    raw_games = data.split('[Event')\n",
    "    del raw_games[0]\n",
    "    del data\n",
    "    \n",
    "    # Gets rid of blitz, correspondence, variants, games without ELO scores, etc\n",
    "    cleaned_matches = initial_cleanup(raw_games)\n",
    "    del raw_games\n",
    "    \n",
    "    # Returns clean text move strings, pairs of elo, match result (who won)\n",
    "    clean, elo, _ = feature_extraction(cleaned_matches)\n",
    "    del cleaned_matches\n",
    "\n",
    "    clean = backlash_remover(clean)\n",
    "\n",
    "    # Adds the result of the match as one of special tokens \"[BLACK]\" or \"[WHITE]\"\n",
    "    \n",
    "    b = time.monotonic()\n",
    "    print(f'Runtime: {b-a}')\n",
    "    print('')\n",
    "    \n",
    "    return clean, elo"
   ]
  },
  {
   "cell_type": "markdown",
   "id": "631bfae5",
   "metadata": {},
   "source": [
    "# Loading data and cleaning it up"
   ]
  },
  {
   "cell_type": "markdown",
   "id": "52ec3d0b",
   "metadata": {},
   "source": [
    "### Preparing and Mergin Datasets"
   ]
  },
  {
   "cell_type": "code",
   "execution_count": 7,
   "id": "4e23eecc",
   "metadata": {},
   "outputs": [],
   "source": [
    "input_fname = '2014_06.pgn'\n",
    "input_elite_fname = \"elite_2019_06.pgn\"\n",
    "input_elite_fname2 = 'elite_2020_05.pgn'\n",
    "input_elite_fname3 = 'elite_2022_10.pgn'"
   ]
  },
  {
   "cell_type": "code",
   "execution_count": 8,
   "id": "9ae7b55f",
   "metadata": {},
   "outputs": [
    {
     "name": "stdout",
     "output_type": "stream",
     "text": [
      "The initial dataset has length 369772\n",
      "The length after cleanup is of 367938\n",
      "We have pruned 1834 games!\n",
      "Clean list length: 367914\n",
      "Elo list length: 367914\n",
      "Results list length: 367914\n",
      "The games at indexes [55186, 121338, 121382, 121386, 121395, 121396, 121403, 121409, 121416, 121425, 121427, 121433, 121434, 230040, 230041, 325861, 325863, 325866, 325873, 336506, 336511, 336512, 336514, 336516] are faulty.\n",
      "Runtime: 10.077788514026906\n",
      "\n",
      "The initial dataset has length 961868\n",
      "The length after cleanup is of 533397\n",
      "We have pruned 428471 games!\n",
      "Clean list length: 533397\n",
      "Elo list length: 533397\n",
      "Results list length: 533397\n",
      "The games at indexes [] are faulty.\n",
      "Runtime: 13.645554750983138\n",
      "\n"
     ]
    }
   ],
   "source": [
    "#elite_clean, elite_elo = data_loader(os.path.join(data_dir, input_elite_fname))\n",
    "elite_clean2, elite_elo2 = data_loader(os.path.join(data_dir, input_elite_fname2))\n",
    "#elite_clean3, elite_elo3 = data_loader(os.path.join(data_dir, input_elite_fname3))\n",
    "clean, elo = data_loader(os.path.join(data_dir, input_fname))"
   ]
  },
  {
   "cell_type": "code",
   "execution_count": 9,
   "id": "d189c563",
   "metadata": {},
   "outputs": [],
   "source": [
    "final_clean = np.concatenate((elite_clean2, clean))\n",
    "final_elo = np.concatenate((elite_elo2, elo))"
   ]
  },
  {
   "cell_type": "code",
   "execution_count": 10,
   "id": "323d8540",
   "metadata": {},
   "outputs": [],
   "source": [
    "#final_clean = np.concatenate((np.concatenate((elite_clean, elite_clean2)), elite_clean3))\n",
    "#final_elo = np.concatenate((np.concatenate((elite_elo, elite_elo2)), elite_elo3))"
   ]
  },
  {
   "cell_type": "code",
   "execution_count": 11,
   "id": "c18648c8",
   "metadata": {},
   "outputs": [],
   "source": [
    "def find_duplicate_indices(games_array):\n",
    "    unique_games = set()\n",
    "    duplicate_indices = []\n",
    "\n",
    "    for i, game in enumerate(games_array):\n",
    "        if game in unique_games:\n",
    "            duplicate_indices.append(i)\n",
    "        else:\n",
    "            unique_games.add(game)\n",
    "\n",
    "    return duplicate_indices"
   ]
  },
  {
   "cell_type": "code",
   "execution_count": 12,
   "id": "a4dd58b8",
   "metadata": {},
   "outputs": [
    {
     "name": "stdout",
     "output_type": "stream",
     "text": [
      "5078\n"
     ]
    }
   ],
   "source": [
    "duplicate_idcs = find_duplicate_indices(final_clean)\n",
    "print(len(duplicate_idcs))\n",
    "final_clean = np.delete(final_clean, duplicate_idcs)\n",
    "final_elo = np.delete(final_elo, duplicate_idcs)"
   ]
  },
  {
   "cell_type": "code",
   "execution_count": 13,
   "id": "9049e2e2",
   "metadata": {},
   "outputs": [
    {
     "data": {
      "text/plain": [
       "896233"
      ]
     },
     "execution_count": 13,
     "metadata": {},
     "output_type": "execute_result"
    }
   ],
   "source": [
    "len(final_clean)"
   ]
  },
  {
   "cell_type": "markdown",
   "id": "16b70721",
   "metadata": {},
   "source": [
    "# Creating a vocab and tokenizing the dataset"
   ]
  },
  {
   "cell_type": "code",
   "execution_count": 14,
   "id": "a8ace909",
   "metadata": {},
   "outputs": [],
   "source": [
    "class ChessTokenizer():\n",
    "    def __init__(self, dataset, specialtks: list):\n",
    "        self.special_tokens = specialtks\n",
    "        self.decode_vocab = self.get_vocab(dataset, self.special_tokens)\n",
    "        self.encode_vocab = {v:k for k,v in self.decode_vocab.items()}\n",
    "\n",
    "    def get_vocab(self, dataset: list, special_tokens: list) -> dict:\n",
    "        vocab_freq = {}\n",
    "\n",
    "        corpus_str = ' '.join(dataset)\n",
    "\n",
    "        moves = corpus_str.split()\n",
    "        for move in moves:\n",
    "            if move in vocab_freq:\n",
    "                vocab_freq[move] += 1\n",
    "            else:\n",
    "                vocab_freq[move] = 1\n",
    "\n",
    "        filtered_moves = {move: count for move, count in vocab_freq.items() if count >= 1}\n",
    "        vocab = {i: move for i, move in enumerate(filtered_moves.keys())}\n",
    "        vocab_len = len(vocab)\n",
    "        vocab.update({vocab_len + i: token for i, token in enumerate(special_tokens)})\n",
    "\n",
    "        return vocab\n",
    "\n",
    "    def encode(self, game: str) -> list:\n",
    "        encoded_game = [self.encode_vocab.get(move, self.encode_vocab['[UNK]']) for move in game.split()]\n",
    "        return encoded_game\n",
    "\n",
    "    def decode(self, game: list) -> str:\n",
    "        decoded_game = [self.decode_vocab[move] for move in game]\n",
    "        return decoded_game\n",
    "    \n",
    "    def get_dset_distribution(self, encoded_dataset: list) -> dict:\n",
    "        if not all(isinstance(game, list) and all(isinstance(move, int) for move in game) for game in encoded_dataset):\n",
    "            raise ValueError('All elements of encoded_dataset must be lists of integers.')\n",
    "        \n",
    "        length_distribution = {}\n",
    "        for game in encoded_dataset:  \n",
    "            lengame = len(game)\n",
    "            if lengame not in length_distribution.keys():\n",
    "                length_distribution[lengame] = 1\n",
    "            else:\n",
    "                length_distribution[lengame] += 1\n",
    "\n",
    "        length_distribution = {key: length_distribution[key] for key in sorted(length_distribution)}\n",
    "\n",
    "        return length_distribution\n",
    "    \n",
    "    def pad_dataset(self, encoded_dataset: list, labels: list, len_distribution: dict) -> np.array:\n",
    "        \n",
    "        game_lens = sorted(list(len_distribution.keys()))\n",
    "        mid_lens = game_lens[int(len(game_lens) * 0):int(len(game_lens) * 1)]\n",
    "        max_mid = max(mid_lens)\n",
    "        mid_lens = range(300)\n",
    "        max_mid = max(mid_lens)\n",
    "        pad_token = self.encode_vocab['[PAD]']\n",
    "\n",
    "        padded_dataset = []\n",
    "        ordered_labels = []\n",
    "\n",
    "        for i, game in enumerate(encoded_dataset):\n",
    "            if len(game) in mid_lens:\n",
    "                padding = [(max_mid - len(game)) * [pad_token]][0]\n",
    "                padded_game = game + padding\n",
    "                padded_dataset.append(padded_game)\n",
    "                ordered_labels.append(labels[i])\n",
    "\n",
    "        return np.array(padded_dataset), np.array(ordered_labels)"
   ]
  },
  {
   "cell_type": "code",
   "execution_count": 15,
   "id": "1073ae0b",
   "metadata": {},
   "outputs": [],
   "source": [
    "special_tokens = [\"[UNK]\", \"[PAD]\", \"[BLACK]\", \"[WHITE]\", \"[DRAW]\", \"[ELO]\"]\n",
    "tokenizer = ChessTokenizer(final_clean, special_tokens)"
   ]
  },
  {
   "cell_type": "markdown",
   "id": "46762d37",
   "metadata": {},
   "source": [
    "# Creating the DataLoaders to train the model"
   ]
  },
  {
   "cell_type": "code",
   "execution_count": 16,
   "id": "f83697f4",
   "metadata": {},
   "outputs": [],
   "source": [
    "from utils import plot_gameslendist\n",
    "\n",
    "def create_dataset(tokenizer: ChessTokenizer, dataset_samples: list, dataset_labels: list) -> np.array:\n",
    "\n",
    "    if not all(isinstance(game, str) for game in dataset_samples):\n",
    "        raise ValueError('The elements of dataset_samples must be of type string.')\n",
    "    \n",
    "    encoded_dataset = [(tokenizer.encode(game)) for game in dataset_samples]\n",
    "\n",
    "    plot_gameslendist(encoded_dataset=encoded_dataset, num_buckets=10)\n",
    "\n",
    "    len_distribution = tokenizer.get_dset_distribution(encoded_dataset)\n",
    "    padded_dset, labels = tokenizer.pad_dataset(encoded_dataset, dataset_labels, len_distribution)\n",
    "\n",
    "    return padded_dset, labels"
   ]
  },
  {
   "cell_type": "code",
   "execution_count": 17,
   "id": "5a6934c5",
   "metadata": {},
   "outputs": [
    {
     "data": {
      "image/png": "[encoded data removed]",
      "text/plain": [
       "<Figure size 1000x600 with 1 Axes>"
      ]
     },
     "metadata": {},
     "output_type": "display_data"
    },
    {
     "name": "stdout",
     "output_type": "stream",
     "text": [
      "[1, 3, 4, 6, 7, 9, 10, 12, 13, 15, 16, 18, 19, 21, 22, 24, 25, 27, 28, 30, 31, 32, 33, 34, 36, 37, 39, 40, 42, 43, 45, 46, 47, 48, 49, 51, 52, 54, 55, 56, 57, 58, 60, 61, 63, 64, 65, 66, 67, 69, 70, 72, 73, 74, 75, 76, 77, 78, 79, 81, 82, 84, 85, 87, 88, 90, 91, 93, 94, 96, 97, 99, 100, 102, 103, 104, 105, 106, 108, 109, 110, 111, 112, 114, 115, 117, 118, 120, 121, 123, 124, 126, 127, 129, 130, 132, 133, 134, 135, 136, 138, 139, 141, 142, 144, 145, 147, 148, 150, 151, 153, 154, 156, 157, 159, 160, 162, 163, 165, 166, 168, 169, 171, 172, 174, 175, 177, 178, 180, 181, 183, 184, 186, 187, 189, 190, 192, 193, 195, 196, 198, 199, 201, 202, 204, 205, 207, 208, 210, 211, 213, 214, 216, 217, 219, 220, 222, 223, 225, 226, 228, 229, 231, 232, 234, 235, 237, 238, 240, 241, 243, 244, 246, 247, 249, 250, 252, 253, 255, 256, 258, 259, 261, 262, 264, 265, 267, 268, 270, 271, 273, 274, 276, 277, 279, 280, 282, 283, 285, 286, 288, 289, 291, 292, 294, 295, 297, 298, 300, 301, 303, 304, 306, 307, 309, 310, 312, 313, 315, 316, 318, 319, 321, 322, 324, 325, 327, 328, 330, 331, 333, 334, 336, 337, 339, 340, 342, 343, 345, 346, 348, 349, 351, 352, 354, 355, 357, 358, 360, 361, 363, 364, 366, 367, 369, 370, 372, 373, 375, 376, 378, 379, 381, 382, 384, 385, 387, 388, 390, 391, 393, 394, 396, 397, 399, 400, 403, 405, 406, 408, 409, 411, 412, 414, 415, 417, 418, 420, 421, 423, 426, 429, 432, 441, 444, 447, 450, 454, 456, 457, 460, 462, 463, 468, 474, 475, 481, 519, 522, 523, 541, 546, 547, 549, 573, 604, 606]\n"
     ]
    }
   ],
   "source": [
    "from utils import plot_gameslendist\n",
    "\n",
    "padded_samples, labels = create_dataset(tokenizer, final_clean, final_elo)"
   ]
  },
  {
   "cell_type": "code",
   "execution_count": 18,
   "id": "d0dd164c",
   "metadata": {},
   "outputs": [],
   "source": [
    "chess_data = EloGuessrDset(padded_samples, labels)"
   ]
  },
  {
   "cell_type": "code",
   "execution_count": 19,
   "id": "363ee4da",
   "metadata": {},
   "outputs": [
    {
     "name": "stdout",
     "output_type": "stream",
     "text": [
      "894830\n"
     ]
    }
   ],
   "source": [
    "print(len(chess_data))"
   ]
  },
  {
   "cell_type": "code",
   "execution_count": 20,
   "id": "4ded3c99",
   "metadata": {},
   "outputs": [],
   "source": [
    "train_size = int(0.8 * len(chess_data))\n",
    "val_size = int(0.1 * len(chess_data))\n",
    "test_size = len(chess_data) - train_size - val_size"
   ]
  },
  {
   "cell_type": "code",
   "execution_count": 21,
   "id": "8704e823",
   "metadata": {},
   "outputs": [
    {
     "name": "stdout",
     "output_type": "stream",
     "text": [
      "{'pad_idx': 13466, 'vocab_len': 13471, 'match_len': 299}\n"
     ]
    }
   ],
   "source": [
    "specs ={'pad_idx': tokenizer.encode_vocab['[PAD]'],\n",
    "        'vocab_len': len(tokenizer.decode_vocab.keys()),\n",
    "        'match_len': len(padded_samples[0])}\n",
    "\n",
    "print(specs)"
   ]
  },
  {
   "cell_type": "code",
   "execution_count": 22,
   "id": "01983eb2",
   "metadata": {},
   "outputs": [],
   "source": [
    "train_dataset, val_dataset, test_dataset = random_split(chess_data, [train_size, val_size, test_size])"
   ]
  },
  {
   "cell_type": "code",
   "execution_count": 23,
   "id": "fd62b693",
   "metadata": {},
   "outputs": [],
   "source": [
    "processed_data_dir = '/Home/siv33/vbo084/EloGuessr/data/processed/'\n",
    "\n",
    "specs_dict_path = os.path.join(processed_data_dir + 'chess_both_full.json')\n",
    "\n",
    "# Save the dictionary as a JSON file\n",
    "with open(specs_dict_path, 'w') as json_file:\n",
    "    json.dump(specs, json_file, indent=4)"
   ]
  },
  {
   "cell_type": "code",
   "execution_count": 24,
   "id": "08b5f6e0",
   "metadata": {},
   "outputs": [],
   "source": [
    "torch.save(train_dataset, os.path.join(processed_data_dir, 'chess_train_both_full.pt'))\n",
    "torch.save(val_dataset, os.path.join(processed_data_dir, 'chess_val_both_full.pt'))\n",
    "torch.save(test_dataset, os.path.join(processed_data_dir, 'chess_test_both_full.pt'))"
   ]
  }
 ],
 "metadata": {
  "kernelspec": {
   "display_name": "Python 3 (ipykernel)",
   "language": "python",
   "name": "python3"
  },
  "language_info": {
   "codemirror_mode": {
    "name": "ipython",
    "version": 3
   },
   "file_extension": ".py",
   "mimetype": "text/x-python",
   "name": "python",
   "nbconvert_exporter": "python",
   "pygments_lexer": "ipython3",
   "version": "3.12.0"
  }
 },
 "nbformat": 4,
 "nbformat_minor": 5
}
