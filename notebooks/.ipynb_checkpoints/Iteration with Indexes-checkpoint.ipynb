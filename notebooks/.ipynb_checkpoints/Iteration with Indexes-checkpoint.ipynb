{
 "cells": [
  {
   "cell_type": "code",
   "execution_count": 19,
   "id": "6b08bba4",
   "metadata": {},
   "outputs": [],
   "source": [
    "import time\n",
    "import os\n",
    "import chess\n",
    "import numpy as np\n",
    "import pandas as pd\n",
    "import re\n",
    "import sklearn as sk\n",
    "import matplotlib.pyplot as plt\n",
    "import pickle"
   ]
  },
  {
   "cell_type": "markdown",
   "id": "df7e0dab",
   "metadata": {},
   "source": [
    "# Functions for loading and extracting features"
   ]
  },
  {
   "cell_type": "code",
   "execution_count": 20,
   "id": "f44ecfb5",
   "metadata": {},
   "outputs": [],
   "source": [
    "def data_loader(path):\n",
    "    \n",
    "    a = time.monotonic()\n",
    "    \n",
    "    # Opens the file\n",
    "    with open(path) as f:\n",
    "        data = f.read()\n",
    "    \n",
    "    # Converts the data into string\n",
    "    data = str(data)\n",
    "    \n",
    "    # Divides the file into games\n",
    "    raw_games = data.split('[Event')\n",
    "    del raw_games[0]\n",
    "    del data\n",
    "    \n",
    "    # Gets rid of blitz, correspondence, variants, games without elo scores, etc\n",
    "    cleaned_matches = initial_cleanup(raw_games)\n",
    "    del raw_games\n",
    "    \n",
    "    # Returns clean text move strings, pairs of elo, match result (who won)\n",
    "    clean, elo, results = feature_extraction(cleaned_matches)\n",
    "    del cleaned_matches\n",
    "    \n",
    "    b = time.monotonic()\n",
    "    print(f'Runtime: {b-a}')\n",
    "    \n",
    "    return clean, elo, results"
   ]
  },
  {
   "cell_type": "code",
   "execution_count": 21,
   "id": "987a62a1",
   "metadata": {},
   "outputs": [],
   "source": [
    "def initial_cleanup(game_list):\n",
    "    \n",
    "    wo_bullet = []\n",
    "    game_list_len = len(game_list)\n",
    "    #a = time.monotonic()\n",
    "    \n",
    "    print(f'The initial dataset has length {game_list_len}')\n",
    "    \n",
    "    # Gets rid of games with Bullet time control, empty games, and short games\n",
    "    for game in game_list:\n",
    "        if game.count('Bullet') > 0:\n",
    "            del game\n",
    "            continue\n",
    "        if game.count('Variant') > 1:\n",
    "            del game\n",
    "            continue\n",
    "        elif game.count('Result') == 0:\n",
    "            del game\n",
    "            continue\n",
    "        elif game.count('eval') > 0:\n",
    "            del game\n",
    "            continue\n",
    "        elif game.count('6.') == 0:\n",
    "            del game\n",
    "            continue\n",
    "        elif game.count('[WhiteElo \"?\"]') > 0:\n",
    "            del game\n",
    "            continue\n",
    "        elif game.count('[BlackElo \"?\"]') > 0:\n",
    "            del game\n",
    "            continue\n",
    "        elif game.count('Correspondence') > 0:\n",
    "            del game\n",
    "            continue\n",
    "        else:\n",
    "            wo_bullet.append(game)\n",
    "    \n",
    "    #b = time.monotonic()\n",
    "    \n",
    "    print(f'The length after cleanup is of {len(wo_bullet)}')\n",
    "    print(f'We have pruned {game_list_len - len(wo_bullet)} games!')\n",
    "    #print(f'Runtime: {b-a}')\n",
    "    \n",
    "    return wo_bullet"
   ]
  },
  {
   "cell_type": "markdown",
   "id": "d01f035d",
   "metadata": {},
   "source": [
    "def feature_extraction(game_list):\n",
    "    \n",
    "    elo = []\n",
    "    results = []\n",
    "    termination_type = []\n",
    "    game_features = []\n",
    "    game_moves = []\n",
    "    \n",
    "    for game in game_list:\n",
    "        \n",
    "        features = game[:game.find(\"\\n\\n1.\")].strip()\n",
    "        game_features.append(features)\n",
    "        final_game = game[game.find(\"\\n\\n1.\"):]\n",
    "        \n",
    "        if final_game.find(\"1-0\") > 0:\n",
    "            final_game = final_game[final_game.find(\"1.\"):final_game.find(\"1-0\")]\n",
    "        \n",
    "        elif final_game.find(\"0-1\") > 0:\n",
    "            final_game = final_game[final_game.find(\"1.\"):final_game.find(\"0-1\")]\n",
    "        \n",
    "        elif final_game.find(\"1/2\") > 0:\n",
    "            final_game = final_game[final_game.find(\"1.\"):final_game.find(\"1/2\")]\n",
    "        \n",
    "        game_moves.append(final_game.strip())\n",
    "    \n",
    "    # Gets the game result\n",
    "    for game in game_features:\n",
    "        index = game.find('Result')+8\n",
    "        victory = game[index:index+2]\n",
    "        if victory == \"1-\":\n",
    "            results.append(\"White Wins\")\n",
    "        elif victory == \"0-\":\n",
    "            results.append(\"Black Wins\")\n",
    "        elif victory == \"1/\":\n",
    "            results.append(\"Draw\")\n",
    "        else:\n",
    "            indexed_list = enumerate(game_features)\n",
    "            \n",
    "            \n",
    "    \n",
    "    # Gets the ELO for each player\n",
    "    for game in game_features:\n",
    "        \n",
    "        index1 = game.find(\"[WhiteElo\")\n",
    "        index2 = game.find(\"[WhiteRatingDiff\")\n",
    "        \n",
    "        game = game[index1:index2]\n",
    "        \n",
    "        score = re.findall('\\d+', game)[:2]\n",
    "        White_Elo = float(score[0])\n",
    "        Black_Elo = float(score[1])\n",
    "        elo_list = [White_Elo, Black_Elo]\n",
    "        elo.append(elo_list)\n",
    "        \n",
    "    # Gets the Termination type\n",
    "    for game in game_features:\n",
    "        \n",
    "        index = game.find(\"[Termination\")\n",
    "        game = game[index:index+30]\n",
    "        \n",
    "        \n",
    "        \n",
    "    \n",
    "    # Transforms lists into np.arrays\n",
    "    \n",
    "    game_moves = np.array(game_moves)\n",
    "    elo = np.array(elo)\n",
    "    results = np.array(results)\n",
    "    \n",
    "    print(f\"Clean list length: {len(game_moves)}\")\n",
    "    print(f\"Elo list length: {len(elo)}\")\n",
    "    print(f\"Results list length: {len(results)}\")\n",
    "    print(f\"The games at indexes {faulty} are faulty.\")\n",
    "    return game_moves, elo, results"
   ]
  },
  {
   "cell_type": "code",
   "execution_count": null,
   "id": "b95e9cec",
   "metadata": {},
   "outputs": [],
   "source": []
  },
  {
   "cell_type": "code",
   "execution_count": null,
   "id": "c39101d3",
   "metadata": {},
   "outputs": [],
   "source": []
  },
  {
   "cell_type": "code",
   "execution_count": 30,
   "id": "e09bf7c6",
   "metadata": {},
   "outputs": [],
   "source": [
    "def feature_extraction(game_list):\n",
    "    \n",
    "    faulty = []\n",
    "    elo = []\n",
    "    results = []\n",
    "    termination_type = []\n",
    "    game_features = []\n",
    "    game_moves = []\n",
    "    \n",
    "    for game in game_list:\n",
    "        \n",
    "        features = game[:game.find(\"\\n\\n1.\")].strip()\n",
    "        game_features.append(features)\n",
    "        final_game = game[game.find(\"\\n\\n1.\"):]\n",
    "        \n",
    "        if final_game.find(\"1-0\") > 0:\n",
    "            final_game = final_game[final_game.find(\"1.\"):final_game.find(\"1-0\")]\n",
    "        \n",
    "        elif final_game.find(\"0-1\") > 0:\n",
    "            final_game = final_game[final_game.find(\"1.\"):final_game.find(\"0-1\")]\n",
    "        \n",
    "        elif final_game.find(\"1/2\") > 0:\n",
    "            final_game = final_game[final_game.find(\"1.\"):final_game.find(\"1/2\")]\n",
    "        \n",
    "        game_moves.append(final_game.strip())\n",
    "    \n",
    "    # Gets the game result\n",
    "    for i, game in enumerate(game_features):\n",
    "        \n",
    "        index = game.find('Result')+8\n",
    "        victory = game[index:index+2]\n",
    "        if victory == \"1-\":\n",
    "            results.append(\"White Wins\")\n",
    "        elif victory == \"0-\":\n",
    "            results.append(\"Black Wins\")\n",
    "        elif victory == \"1/\":\n",
    "            results.append(\"Draw\")\n",
    "        else:\n",
    "            faulty.append(i)\n",
    "                  \n",
    "    \n",
    "    # Gets the ELO for each player\n",
    "    for game in game_features:\n",
    "        \n",
    "        index1 = game.find(\"[WhiteElo\")\n",
    "        index2 = game.find(\"[WhiteRatingDiff\")\n",
    "        \n",
    "        game = game[index1:index2]\n",
    "        \n",
    "        score = re.findall('\\d+', game)[:2]\n",
    "        White_Elo = float(score[0])\n",
    "        Black_Elo = float(score[1])\n",
    "        elo_list = [White_Elo, Black_Elo]\n",
    "        elo.append(elo_list)\n",
    "        \n",
    "    # Gets the Termination type\n",
    "    for game in game_features:\n",
    "        \n",
    "        index = game.find(\"[Termination\")\n",
    "        game = game[index:index+30]\n",
    "        \n",
    "    \n",
    "    # Transforms lists into np.arrays\n",
    "    \n",
    "    game_moves = np.array(game_moves)\n",
    "    elo = np.array(elo)\n",
    "    results = np.array(results)\n",
    "    \n",
    "    print(f\"Clean list length: {len(game_moves)}\")\n",
    "    print(f\"Elo list length: {len(elo)}\")\n",
    "    print(f\"Results list length: {len(results)}\")\n",
    "    print(f\"The games at indexes {faulty} are faulty.\")\n",
    "    return game_moves, elo, results"
   ]
  },
  {
   "cell_type": "code",
   "execution_count": null,
   "id": "0f742724",
   "metadata": {},
   "outputs": [],
   "source": []
  },
  {
   "cell_type": "code",
   "execution_count": null,
   "id": "f0cbc25d",
   "metadata": {},
   "outputs": [],
   "source": []
  },
  {
   "cell_type": "code",
   "execution_count": null,
   "id": "439eb01f",
   "metadata": {},
   "outputs": [],
   "source": []
  },
  {
   "cell_type": "code",
   "execution_count": null,
   "id": "d6593814",
   "metadata": {},
   "outputs": [],
   "source": []
  },
  {
   "cell_type": "code",
   "execution_count": null,
   "id": "23b889d5",
   "metadata": {},
   "outputs": [],
   "source": []
  },
  {
   "cell_type": "markdown",
   "id": "6b6124e3",
   "metadata": {},
   "source": [
    "# Utility functions"
   ]
  },
  {
   "cell_type": "code",
   "execution_count": 23,
   "id": "6f80667e",
   "metadata": {},
   "outputs": [],
   "source": [
    "def get_elo_mean(elo_list):\n",
    "    elo_mean = []\n",
    "    for elo_pair in elo_list:\n",
    "        mean = np.mean(elo_pair)\n",
    "        elo_mean.append(mean)\n",
    "        \n",
    "    elo_mean = np.array(elo_mean)\n",
    "    \n",
    "    return elo_mean"
   ]
  },
  {
   "cell_type": "code",
   "execution_count": 24,
   "id": "bfae0a56",
   "metadata": {},
   "outputs": [],
   "source": [
    "def backlash_remover(game_list):\n",
    "    \n",
    "    clean_games = []\n",
    "    \n",
    "    for game in game_list:\n",
    "        game = game.replace(\"\\n\", \" \")\n",
    "        clean_games.append(game)\n",
    "    \n",
    "    return clean_games             "
   ]
  },
  {
   "cell_type": "code",
   "execution_count": 25,
   "id": "0a377fd1",
   "metadata": {},
   "outputs": [],
   "source": [
    "def get_tokens(game_list):\n",
    "    \n",
    "    split_games = []\n",
    "    \n",
    "    for game in game_list:\n",
    "        split_game = game.split()\n",
    "        split_game = set(split_game)\n",
    "        for string in split_game:\n",
    "            split_games.append(string)\n",
    "        \n",
    "    split_games = set(split_games)\n",
    "    split_games = list(split_games)\n",
    "    split_games = sorted(split_games)\n",
    "    \n",
    "    return split_games"
   ]
  },
  {
   "cell_type": "code",
   "execution_count": 26,
   "id": "92ed8bcb",
   "metadata": {},
   "outputs": [],
   "source": [
    "# write list to binary file\n",
    "def write_list(a_list, filename):\n",
    "    # store list in binary file so 'wb' mode\n",
    "    filename = filename\n",
    "    with open(filename, 'wb') as fp:\n",
    "        pickle.dump(a_list, fp)\n",
    "        print('Done writing list into a binary file')"
   ]
  },
  {
   "cell_type": "code",
   "execution_count": 27,
   "id": "826ede7f",
   "metadata": {},
   "outputs": [],
   "source": [
    "# Read list to memory\n",
    "def read_list(path):\n",
    "    # for reading also binary mode is important\n",
    "    with open(path, 'rb') as fp:\n",
    "        n_list = pickle.load(fp)\n",
    "        return n_list"
   ]
  },
  {
   "cell_type": "markdown",
   "id": "631bfae5",
   "metadata": {},
   "source": [
    "# Loading data and cleaning it up"
   ]
  },
  {
   "cell_type": "markdown",
   "id": "52ec3d0b",
   "metadata": {},
   "source": [
    "### Dataset 1"
   ]
  },
  {
   "cell_type": "code",
   "execution_count": 11,
   "id": "214079a9",
   "metadata": {},
   "outputs": [],
   "source": [
    "path = \"/Users/victorlacerda/Jupyter/Guess the ELO/Input/2014_06.pgn\""
   ]
  },
  {
   "cell_type": "code",
   "execution_count": 12,
   "id": "4e23eecc",
   "metadata": {},
   "outputs": [
    {
     "name": "stdout",
     "output_type": "stream",
     "text": [
      "The initial dataset has length 961868\n",
      "The length after cleanup is of 533397\n",
      "We have pruned 428471 games!\n",
      "Clean list length: 533397\n",
      "Elo list length: 533397\n",
      "Results list length: 533397\n",
      "The games at indexes [] are faulty.\n",
      "Runtime: 9.947896291996585\n"
     ]
    }
   ],
   "source": [
    "clean1, elo1, results1 = data_loader(path)"
   ]
  },
  {
   "cell_type": "markdown",
   "id": "77a8cf84",
   "metadata": {},
   "source": [
    "### Dataset 2"
   ]
  },
  {
   "cell_type": "code",
   "execution_count": 13,
   "id": "5fa90285",
   "metadata": {},
   "outputs": [],
   "source": [
    "path = \"/Users/victorlacerda/Jupyter/Guess the ELO/Input/2014_12.pgn\""
   ]
  },
  {
   "cell_type": "code",
   "execution_count": 14,
   "id": "c391504f",
   "metadata": {},
   "outputs": [
    {
     "name": "stdout",
     "output_type": "stream",
     "text": [
      "The initial dataset has length 1350176\n",
      "The length after cleanup is of 756942\n",
      "We have pruned 593234 games!\n",
      "Clean list length: 756942\n",
      "Elo list length: 756942\n",
      "Results list length: 756942\n",
      "The games at indexes [] are faulty.\n",
      "Runtime: 14.416008083993802\n"
     ]
    }
   ],
   "source": [
    "clean2, elo2, results2 = data_loader(path)"
   ]
  },
  {
   "cell_type": "markdown",
   "id": "3f39bb86",
   "metadata": {},
   "source": [
    "### Dataset 3"
   ]
  },
  {
   "cell_type": "markdown",
   "id": "028d276f",
   "metadata": {},
   "source": [
    "path = \"/Users/victorlacerda/Jupyter/Guess the ELO/Input/2015_11.pgn\""
   ]
  },
  {
   "cell_type": "markdown",
   "id": "bb23a3b5",
   "metadata": {},
   "source": [
    "clean3, elo3, results3 = data_loader(path)"
   ]
  },
  {
   "cell_type": "markdown",
   "id": "fe9e6d02",
   "metadata": {},
   "source": [
    "### Dataset 4"
   ]
  },
  {
   "cell_type": "code",
   "execution_count": 31,
   "id": "35197fe5",
   "metadata": {},
   "outputs": [],
   "source": [
    "path = \"/Users/victorlacerda/Jupyter/Guess the ELO/Input/elite_2019_06.pgn\""
   ]
  },
  {
   "cell_type": "code",
   "execution_count": 32,
   "id": "86958d8f",
   "metadata": {},
   "outputs": [
    {
     "name": "stdout",
     "output_type": "stream",
     "text": [
      "The initial dataset has length 76809\n",
      "The length after cleanup is of 76793\n",
      "We have pruned 16 games!\n",
      "Clean list length: 76793\n",
      "Elo list length: 76793\n",
      "Results list length: 76788\n",
      "The games at indexes [51030, 51040, 51044, 71922, 71923] are faulty.\n",
      "Runtime: 1.3607132920005824\n"
     ]
    }
   ],
   "source": [
    "clean4, elo4, results4 = data_loader(path)\n",
    "\n",
    "clean4 = backlash_remover(clean4)"
   ]
  },
  {
   "cell_type": "code",
   "execution_count": null,
   "id": "e9f0d1e7",
   "metadata": {},
   "outputs": [],
   "source": []
  },
  {
   "cell_type": "markdown",
   "id": "ca85a2da",
   "metadata": {},
   "source": [
    "# Concatenating the output into single files"
   ]
  },
  {
   "cell_type": "code",
   "execution_count": 16,
   "id": "103ae022",
   "metadata": {},
   "outputs": [],
   "source": [
    "final_clean = np.concatenate((clean2, clean4), axis=0)"
   ]
  },
  {
   "cell_type": "code",
   "execution_count": 17,
   "id": "c2f78e8d",
   "metadata": {},
   "outputs": [],
   "source": [
    "final_elo = np.concatenate((elo2, elo4), axis=0)"
   ]
  },
  {
   "cell_type": "code",
   "execution_count": 18,
   "id": "8d7dd784",
   "metadata": {},
   "outputs": [],
   "source": [
    "final_results = np.concatenate((results2, results4), axis=0)"
   ]
  },
  {
   "cell_type": "markdown",
   "id": "9b57f139",
   "metadata": {},
   "source": [
    "# Saving the cleaned up files"
   ]
  },
  {
   "cell_type": "code",
   "execution_count": 19,
   "id": "b7141a93",
   "metadata": {},
   "outputs": [
    {
     "name": "stdout",
     "output_type": "stream",
     "text": [
      "Done writing list into a binary file\n"
     ]
    }
   ],
   "source": [
    "write_list(final_clean,'clean24')"
   ]
  },
  {
   "cell_type": "code",
   "execution_count": 20,
   "id": "48cb6c6d",
   "metadata": {},
   "outputs": [
    {
     "name": "stdout",
     "output_type": "stream",
     "text": [
      "Done writing list into a binary file\n"
     ]
    }
   ],
   "source": [
    "write_list(final_elo,'elo24')"
   ]
  },
  {
   "cell_type": "code",
   "execution_count": 21,
   "id": "f4de0c62",
   "metadata": {},
   "outputs": [
    {
     "name": "stdout",
     "output_type": "stream",
     "text": [
      "Done writing list into a binary file\n"
     ]
    }
   ],
   "source": [
    "write_list(final_results, 'results24')"
   ]
  },
  {
   "cell_type": "markdown",
   "id": "de96d67f",
   "metadata": {},
   "source": [
    "# Getting chess tokens"
   ]
  },
  {
   "cell_type": "markdown",
   "id": "ae7cb7e5",
   "metadata": {},
   "source": [
    "a = time.monotonic()\n",
    "tokens1 = get_tokens(clean1)\n",
    "tokens2 = get_tokens(clean2)\n",
    "tokens3 = get_tokens(clean3)\n",
    "tokens4 = get_tokens(clean4)\n",
    "b = time.monotonic()\n",
    "print(b-a)"
   ]
  },
  {
   "cell_type": "markdown",
   "id": "d9ad3d47",
   "metadata": {},
   "source": [
    "token_list = np.concatenate((tokens1, tokens2, tokens3, tokens4),axis=0)"
   ]
  }
 ],
 "metadata": {
  "kernelspec": {
   "display_name": "Python 3 (ipykernel)",
   "language": "python",
   "name": "python3"
  },
  "language_info": {
   "codemirror_mode": {
    "name": "ipython",
    "version": 3
   },
   "file_extension": ".py",
   "mimetype": "text/x-python",
   "name": "python",
   "nbconvert_exporter": "python",
   "pygments_lexer": "ipython3",
   "version": "3.10.6"
  }
 },
 "nbformat": 4,
 "nbformat_minor": 5
}
