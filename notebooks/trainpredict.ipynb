{
 "cells": [
  {
   "cell_type": "code",
   "execution_count": 1,
   "metadata": {},
   "outputs": [
    {
     "data": {
      "text/plain": [
       "<torch._C.Generator at 0x7f2c43bfc190>"
      ]
     },
     "execution_count": 1,
     "metadata": {},
     "output_type": "execute_result"
    }
   ],
   "source": [
    "import os\n",
    "import sys\n",
    "import numpy as np\n",
    "import torch\n",
    "import torch.nn as nn\n",
    "import matplotlib.pyplot as plt\n",
    "from eloguessr import EloGuessr\n",
    "from utils import load_data, plot_losses, load_json_dict\n",
    "\n",
    "torch.manual_seed(39)\n",
    "#device = torch.device('cuda' if torch.cuda.is_available() else 'cpu')\n",
    "#print(device)"
   ]
  },
  {
   "cell_type": "code",
   "execution_count": null,
   "metadata": {},
   "outputs": [],
   "source": [
    "data_dir = '/Home/siv33/vbo084/EloGuessr/data/processed/'\n",
    "emb_data_dir = '/Home/siv33/vbo084/EloGuessr/models/embeddings'"
   ]
  },
  {
   "cell_type": "code",
   "execution_count": null,
   "metadata": {},
   "outputs": [],
   "source": [
    "#fnames = ['chess_train_elite_medium.pt', 'chess_val_elite_medium.pt', 'chess_test_elite_medium.pt']\n",
    "#specnames = ['chess_elite_medium.json']\n",
    "\n",
    "fnames = ['chess_train_both_medium.pt', 'chess_val_both_medium.pt', 'chess_test_both_medium.pt']\n",
    "specnames = ['chess_both_medium.json']\n",
    "\n",
    "#fnames = ['chess_train_elite_full.pt', 'chess_val_elite_full.pt', 'chess_test_elite_full.pt']\n",
    "#specnames = ['chess_elite_full.json']"
   ]
  },
  {
   "cell_type": "code",
   "execution_count": null,
   "metadata": {},
   "outputs": [],
   "source": [
    "dset_specs = load_json_dict(os.path.join(data_dir, specnames[0]))\n",
    "print(dset_specs)\n",
    "VOCAB_LEN = dset_specs['vocab_len']\n",
    "PAD_IDX = dset_specs['pad_idx']\n",
    "MAX_LEN = dset_specs['match_len']"
   ]
  },
  {
   "cell_type": "code",
   "execution_count": null,
   "metadata": {},
   "outputs": [],
   "source": [
    "BATCH_SIZE = 256\n",
    "train_dloader, val_dloader, test_dloader = load_data(data_dir, fnames, batch_size=BATCH_SIZE)\n",
    "del test_dloader"
   ]
  },
  {
   "cell_type": "code",
   "execution_count": null,
   "metadata": {},
   "outputs": [],
   "source": [
    "config_dict = {'emb_dim': 512,\n",
    "               'vocab_len': VOCAB_LEN,\n",
    "               'max_match_len': MAX_LEN,\n",
    "               'num_heads': 2,\n",
    "               'num_enc_layers': 4,\n",
    "               'padding_idx': PAD_IDX,\n",
    "               'dim_ff': 1024,\n",
    "               'epochs': 10,\n",
    "               'lr': 0.00001,\n",
    "               #'embeddings': torch.load(os.path.join(emb_data_dir, 'decoder_emb512_elite_medium.pt'))\n",
    "               'embeddings': None\n",
    "               }"
   ]
  },
  {
   "cell_type": "code",
   "execution_count": null,
   "metadata": {},
   "outputs": [],
   "source": [
    "def train_model(traindloader, valdloader, config_dict, device):\n",
    "    epochs = config_dict['epochs']\n",
    "    model = EloGuessr(vocab_len=config_dict['vocab_len'], num_heads=config_dict['num_heads'],\n",
    "                      num_encoder_layers=config_dict['num_enc_layers'], embdim=config_dict['emb_dim'], dim_ff=config_dict['dim_ff'],\n",
    "                      padding_idx=config_dict['padding_idx'], max_match_len = config_dict['max_match_len'],\n",
    "                      pretrained_embeddings = config_dict['embeddings'], device = device)\n",
    "    \n",
    "    optimizer = torch.optim.Adam(model.parameters(), lr=config_dict['lr'])\n",
    "    loss_fn = nn.L1Loss()\n",
    "    \n",
    "    train_losses = []\n",
    "    val_losses = []\n",
    "    \n",
    "    model.to(device)\n",
    "    \n",
    "    for epoch in range(epochs):\n",
    "        model.train()\n",
    "        running_train_loss = 0.0\n",
    "        for batch in traindloader:\n",
    "            inputs, targets = batch\n",
    "            inputs, targets = inputs.to(device), targets.to(device)\n",
    "            \n",
    "            optimizer.zero_grad()\n",
    "            outputs = model(inputs)\n",
    "            loss = loss_fn(outputs, targets)\n",
    "            loss.backward()\n",
    "            optimizer.step()\n",
    "            \n",
    "            running_train_loss += loss.item()\n",
    "        \n",
    "        avg_train_loss = running_train_loss / len(traindloader)\n",
    "        train_losses.append(avg_train_loss)\n",
    "        \n",
    "        model.eval()\n",
    "        running_val_loss = 0.0\n",
    "        with torch.no_grad():\n",
    "            for batch in valdloader:\n",
    "                inputs, targets = batch\n",
    "                inputs, targets = inputs.to(device), targets.to(device)\n",
    "                outputs = model(inputs)\n",
    "                loss = loss_fn(outputs, targets)\n",
    "                \n",
    "                running_val_loss += loss.item()\n",
    "        \n",
    "        avg_val_loss = running_val_loss / len(valdloader)\n",
    "        val_losses.append(avg_val_loss)\n",
    "        \n",
    "        print(f\"Epoch {epoch+1}/{epochs}, Train Loss: {avg_train_loss:.4f}, Val Loss: {avg_val_loss:.4f}\")\n",
    "    \n",
    "    return model, train_losses, val_losses"
   ]
  },
  {
   "cell_type": "code",
   "execution_count": 9,
   "metadata": {},
   "outputs": [],
   "source": [
    "model, tls, vls = train_model(train_dloader, val_dloader, config_dict, device)\n",
    "plot_losses(tls, vls)"
   ]
  },
  {
   "cell_type": "code",
   "execution_count": null,
   "metadata": {},
   "outputs": [],
   "source": [
    "model_data_dir = '/Home/siv33/vbo084/EloGuessr/models/final_models/'\n",
    "torch.save(model, os.path.join(model_data_dir, 'model_elite_medium.pt'))"
   ]
  }
 ],
 "metadata": {
  "kernelspec": {
   "display_name": "lmlogic",
   "language": "python",
   "name": "python3"
  },
  "language_info": {
   "codemirror_mode": {
    "name": "ipython",
    "version": 3
   },
   "file_extension": ".py",
   "mimetype": "text/x-python",
   "name": "python",
   "nbconvert_exporter": "python",
   "pygments_lexer": "ipython3",
   "version": "3.12.0"
  }
 },
 "nbformat": 4,
 "nbformat_minor": 2
}
