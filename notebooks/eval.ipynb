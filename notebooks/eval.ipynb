{
 "cells": [
  {
   "cell_type": "code",
   "execution_count": 1,
   "metadata": {},
   "outputs": [
    {
     "name": "stdout",
     "output_type": "stream",
     "text": [
      "cuda\n"
     ]
    }
   ],
   "source": [
    "import os\n",
    "import sys\n",
    "import numpy as np\n",
    "import torch\n",
    "import torch.nn as nn\n",
    "import matplotlib.pyplot as plt\n",
    "from eloguessr import EloGuessr\n",
    "from utils import load_data, plot_losses\n",
    "\n",
    "torch.manual_seed(42)\n",
    "device = torch.device('cuda' if torch.cuda.is_available() else 'cpu')\n",
    "print(device)"
   ]
  },
  {
   "cell_type": "code",
   "execution_count": 2,
   "metadata": {},
   "outputs": [],
   "source": [
    "data_dir = '/Home/siv33/vbo084/EloGuessr/data/processed'\n",
    "model_dir = '/Home/siv33/vbo084/EloGuessr/models/final_models'"
   ]
  },
  {
   "cell_type": "code",
   "execution_count": 3,
   "metadata": {},
   "outputs": [],
   "source": [
    "model = torch.load(os.path.join(model_dir, 'model_elite_medium.pt'))\n",
    "\n",
    "#fnames = ['chess_train_elite_full.pt', 'chess_val_elite_full.pt', 'chess_test_elite_full.pt']\n",
    "fnames = ['chess_train_elite_medium.pt', 'chess_val_elite_medium.pt', 'chess_test_elite_medium.pt']\n",
    "#fnames = ['chess_train_both_full.pt', 'chess_val_both_full.pt', 'chess_test_both_full.pt']\n",
    "\n",
    "BATCH_SIZE = 64\n",
    "train_dloader, val_dloader, test_dloader = load_data(data_dir, fnames, batch_size=BATCH_SIZE)\n",
    "del train_dloader"
   ]
  },
  {
   "cell_type": "code",
   "execution_count": 10,
   "metadata": {},
   "outputs": [],
   "source": [
    "def eval(model_list: list, dataloader):\n",
    "    pred_scores = []\n",
    "    true_scores = []\n",
    "\n",
    "    model.eval()\n",
    "    with torch.no_grad():\n",
    "        for batch in dataloader:\n",
    "            inputs, targets = batch\n",
    "            inputs = inputs.to(device)\n",
    "            targets = targets.to(device)\n",
    "\n",
    "            scores = model(inputs)\n",
    "            pred_scores.append(scores.squeeze())  # Ensure scores are in the right shape\n",
    "            true_scores.append(targets.squeeze())  # Ensure targets are in the right shape\n",
    "\n",
    "\n",
    "    pred_scores = torch.cat(pred_scores, dim=0)\n",
    "    true_scores = torch.cat(true_scores, dim=0)\n",
    "    print(f'Pred scores before denorm: {pred_scores[:5]}')\n",
    "\n",
    "    assert pred_scores.shape == true_scores.shape, f\"Shape mismatch: {pred_scores.shape} vs {true_scores.shape}\"\n",
    "\n",
    "    pred_scores = pred_scores * (3000 - 100) + 100 # Denormalize the scores\n",
    "    true_scores = true_scores * (3000 - 100) + 100\n",
    "\n",
    "    print(f'Pred scores AFTER denorm: {pred_scores[:5]}')\n",
    "\n",
    "    print(pred_scores)\n",
    "    print(true_scores)\n",
    "\n",
    "    hits = [25, 50, 100, 250]\n",
    "    hit_percentages = {}\n",
    "    for hit in hits:\n",
    "        hits_x = torch.abs(pred_scores - true_scores) <= hit\n",
    "        hit_percentage = hits_x.sum().item() / len(hits_x) * 100\n",
    "        hit_percentages[f'Hits@{hit}'] = hit_percentage\n",
    "\n",
    "    for key, value in hit_percentages.items():\n",
    "        print(f'{key}: {value:.2f}%')\n",
    "\n",
    "    return hit_percentages"
   ]
  },
  {
   "cell_type": "code",
   "execution_count": 11,
   "metadata": {},
   "outputs": [],
   "source": [
    "models = [model]"
   ]
  },
  {
   "cell_type": "code",
   "execution_count": 12,
   "metadata": {},
   "outputs": [
    {
     "name": "stdout",
     "output_type": "stream",
     "text": [
      "Pred scores before denorm: tensor([0.8686, 0.8650, 0.8814, 0.8687, 0.8902], device='cuda:0')\n",
      "Pred scores AFTER denorm: tensor([2618.8950, 2608.4871, 2656.1438, 2619.1987, 2681.6880],\n",
      "       device='cuda:0')\n",
      "tensor([2618.8950, 2608.4871, 2656.1438,  ..., 2639.6667, 2636.8279,\n",
      "        2613.8413], device='cuda:0')\n",
      "tensor([2436.0000, 2353.0000, 2476.5000,  ..., 2359.5000, 2410.0000,\n",
      "        2340.0000], device='cuda:0')\n",
      "Hits@25: 2.30%\n",
      "Hits@50: 4.67%\n",
      "Hits@100: 12.39%\n",
      "Hits@250: 73.26%\n"
     ]
    }
   ],
   "source": [
    "evals = eval(models, val_dloader)"
   ]
  },
  {
   "cell_type": "code",
   "execution_count": null,
   "metadata": {},
   "outputs": [],
   "source": []
  },
  {
   "cell_type": "code",
   "execution_count": null,
   "metadata": {},
   "outputs": [],
   "source": []
  }
 ],
 "metadata": {
  "kernelspec": {
   "display_name": "lmlogic",
   "language": "python",
   "name": "python3"
  },
  "language_info": {
   "codemirror_mode": {
    "name": "ipython",
    "version": 3
   },
   "file_extension": ".py",
   "mimetype": "text/x-python",
   "name": "python",
   "nbconvert_exporter": "python",
   "pygments_lexer": "ipython3",
   "version": "3.12.0"
  }
 },
 "nbformat": 4,
 "nbformat_minor": 2
}
