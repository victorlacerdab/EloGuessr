{
 "cells": [
  {
   "cell_type": "code",
   "execution_count": null,
   "metadata": {},
   "outputs": [],
   "source": [
    "import os\n",
    "import sys\n",
    "import numpy as np\n",
    "import torch\n",
    "import torch.nn as nn\n",
    "import matplotlib.pyplot as plt\n",
    "from eloguessr import EloGuessr\n",
    "from utils import load_data, plot_losses\n",
    "\n",
    "torch.manual_seed(42)\n",
    "device = torch.device('cuda' if torch.cuda.is_available() else 'cpu')\n",
    "print(device)"
   ]
  },
  {
   "cell_type": "code",
   "execution_count": null,
   "metadata": {},
   "outputs": [],
   "source": [
    "data_dir = '/Home/siv33/vbo084/EloGuessr/data/processed'\n",
    "model_dir = '/Home/siv33/vbo084/EloGuessr/models/final_models'"
   ]
  },
  {
   "cell_type": "code",
   "execution_count": null,
   "metadata": {},
   "outputs": [],
   "source": [
    "model = torch.load(os.path.join(model_dir, 'model_both_medium_final_68.pt'))\n",
    "\n",
    "fnames = ['chess_train_both_medium.pt', 'chess_val_both_medium.pt', 'chess_test_both_medium.pt']\n",
    "\n",
    "BATCH_SIZE = 1024\n",
    "_, _, test_dloader = load_data(data_dir, fnames, batch_size=BATCH_SIZE)"
   ]
  },
  {
   "cell_type": "code",
   "execution_count": null,
   "metadata": {},
   "outputs": [],
   "source": [
    "def eval(model, dataloader, device):\n",
    "    pred_scores = []\n",
    "    true_scores = []\n",
    "    model = model.to(device)\n",
    "    model.eval()\n",
    "    with torch.no_grad():\n",
    "        for batch in dataloader:\n",
    "            inputs, targets = batch\n",
    "            inputs = inputs.to(device)\n",
    "            targets = targets.to(device)\n",
    "\n",
    "            scores = model(inputs)\n",
    "            pred_scores.append(scores.squeeze())  # Ensure scores are in the right shape\n",
    "            true_scores.append(targets.squeeze())  # Ensure targets are in the right shape\n",
    "\n",
    "    pred_scores = torch.cat(pred_scores, dim=0)\n",
    "    true_scores = torch.cat(true_scores, dim=0)\n",
    "\n",
    "    assert pred_scores.shape == true_scores.shape, f\"Shape mismatch: {pred_scores.shape} vs {true_scores.shape}\"\n",
    "\n",
    "    hits = [25, 50, 100, 250, 500]\n",
    "    hit_percentages = {}\n",
    "    for hit in hits:\n",
    "        hits_x = torch.abs(pred_scores - true_scores) <= hit\n",
    "        hit_percentage = hits_x.sum().item() / len(hits_x) * 100\n",
    "        hit_percentages[f'Accuracy@{hit}'] = hit_percentage\n",
    "\n",
    "    for key, value in hit_percentages.items():\n",
    "        print(f'{key}: {value}%')\n",
    "\n",
    "    return hit_percentages"
   ]
  },
  {
   "cell_type": "code",
   "execution_count": null,
   "metadata": {},
   "outputs": [],
   "source": [
    "models = [torch.load(os.path.join(model_dir, 'model_both_medium_final_68.pt')),\n",
    "          torch.load(os.path.join(model_dir, 'model_both_medium_final_61.pt')),\n",
    "          torch.load(os.path.join(model_dir, 'eloguessr_earlystop_58epcs.pt'))]"
   ]
  },
  {
   "cell_type": "code",
   "execution_count": 6,
   "metadata": {},
   "outputs": [],
   "source": [
    "for i, model in enumerate(models):\n",
    "    print(i)\n",
    "    eval(model, test_dloader, device)"
   ]
  }
 ],
 "metadata": {
  "kernelspec": {
   "display_name": "lmlogic",
   "language": "python",
   "name": "python3"
  },
  "language_info": {
   "codemirror_mode": {
    "name": "ipython",
    "version": 3
   },
   "file_extension": ".py",
   "mimetype": "text/x-python",
   "name": "python",
   "nbconvert_exporter": "python",
   "pygments_lexer": "ipython3",
   "version": "3.12.0"
  }
 },
 "nbformat": 4,
 "nbformat_minor": 2
}
