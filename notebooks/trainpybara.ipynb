{
 "cells": [
  {
   "cell_type": "code",
   "execution_count": null,
   "metadata": {},
   "outputs": [],
   "source": [
    "import os\n",
    "import sys\n",
    "import numpy as np\n",
    "import torch\n",
    "import torch.nn as nn\n",
    "import matplotlib.pyplot as plt\n",
    "from chesspybara import ChessPybara\n",
    "from utils import load_data, plot_losses, load_json_dict\n",
    "\n",
    "torch.manual_seed(39)\n",
    "device = torch.device('cuda' if torch.cuda.is_available() else 'cpu')\n",
    "print(device)"
   ]
  },
  {
   "cell_type": "code",
   "execution_count": null,
   "metadata": {},
   "outputs": [],
   "source": [
    "data_dir = '/Home/siv33/vbo084/EloGuessr/data/processed/'\n",
    "\n",
    "fnames = ['chess_train_elite_medium.pt', 'chess_val_elite_medium.pt', 'chess_test_elite_medium.pt']\n",
    "specnames = ['chess_elite_medium.json']\n",
    "\n",
    "#fnames = ['chess_train_both_full.pt', 'chess_val_both_full.pt', 'chess_test_both_full.pt']\n",
    "#specnames = ['chess_both_full.json']\n",
    "\n",
    "#fnames = ['chess_train_elite_full.pt', 'chess_val_elite_full.pt', 'chess_test_elite_full.pt']\n",
    "#specnames = ['chess_elite_full.json']"
   ]
  },
  {
   "cell_type": "code",
   "execution_count": null,
   "metadata": {},
   "outputs": [],
   "source": [
    "dset_specs = load_json_dict(os.path.join(data_dir, specnames[0]))\n",
    "print(dset_specs)\n",
    "VOCAB_LEN = dset_specs['vocab_len']\n",
    "PAD_IDX = dset_specs['pad_idx']\n",
    "MAX_LEN = dset_specs['match_len']"
   ]
  },
  {
   "cell_type": "code",
   "execution_count": null,
   "metadata": {},
   "outputs": [],
   "source": [
    "BATCH_SIZE = 64\n",
    "train_dloader, val_dloader, test_dloader = load_data(data_dir, fnames, batch_size=BATCH_SIZE)\n",
    "del test_dloader"
   ]
  },
  {
   "cell_type": "code",
   "execution_count": null,
   "metadata": {},
   "outputs": [],
   "source": [
    "config_dict = {'emb_dim': 512,\n",
    "               'vocab_len': VOCAB_LEN,\n",
    "               'max_match_len': MAX_LEN,\n",
    "               'num_heads': 2,\n",
    "               'num_enc_layers': 2,\n",
    "               'padding_idx': PAD_IDX,\n",
    "               'dim_ff': 1024,\n",
    "               'epochs': 100,\n",
    "               'lr': 0.0001}"
   ]
  },
  {
   "cell_type": "code",
   "execution_count": null,
   "metadata": {},
   "outputs": [],
   "source": [
    "def train_causal(traindloader, valdloader, config_dict, device):\n",
    "\n",
    "    epochs = config_dict['epochs']\n",
    "    model = ChessPybara(vocab_len=config_dict['vocab_len'], num_heads=config_dict['num_heads'],\n",
    "                      num_decoder_layers=config_dict['num_enc_layers'], embdim=config_dict['emb_dim'], dim_ff=config_dict['dim_ff'],\n",
    "                      padding_idx=config_dict['padding_idx'], max_match_len = config_dict['max_match_len'],\n",
    "                      device = device)\n",
    "    \n",
    "    optimizer = torch.optim.Adam(model.parameters(), lr=config_dict['lr'])\n",
    "    loss_fn = nn.CrossEntropyLoss(ignore_index=config_dict['padding_idx'])\n",
    "\n",
    "    train_losses = []\n",
    "    val_losses = []\n",
    "\n",
    "    model = model.to(device)\n",
    "\n",
    "    # Training and validation loop\n",
    "    for epoch in range(epochs):\n",
    "        # Training phase\n",
    "        model.train()\n",
    "        total_train_loss = 0\n",
    "\n",
    "        for batch in traindloader:\n",
    "            inputs, _ = batch\n",
    "            targets = inputs[:, 1: ]\n",
    "            targets = targets.reshape(targets.size(0) * targets.size(1))\n",
    "            inputs = inputs.to(device)\n",
    "            targets = targets.to(device)\n",
    "\n",
    "            optimizer.zero_grad()\n",
    "            outputs = model(inputs)\n",
    "\n",
    "            outputs = outputs[:, :-1, :]\n",
    "            outputs = outputs.reshape(outputs.size(0) * outputs.size(1), outputs.size(2))\n",
    "\n",
    "            loss = loss_fn(outputs, targets)\n",
    "\n",
    "            loss.backward()\n",
    "            optimizer.step()\n",
    "\n",
    "            total_train_loss += loss.item()\n",
    "\n",
    "        avg_train_loss = total_train_loss / len(traindloader)\n",
    "        train_losses.append(avg_train_loss)\n",
    "\n",
    "        # Validation phase\n",
    "        model.eval()\n",
    "        total_val_loss = 0\n",
    "\n",
    "        with torch.no_grad():\n",
    "            for batch in valdloader:\n",
    "                inputs, _ = batch\n",
    "                targets = inputs[:, 1: ]\n",
    "                targets = targets.reshape(targets.size(0) * targets.size(1))\n",
    "                inputs = inputs.to(device)\n",
    "                targets = targets.to(device)\n",
    "\n",
    "                outputs = model(inputs)\n",
    "                outputs = outputs[:, :-1, :]\n",
    "                outputs = outputs.reshape(outputs.size(0) * outputs.size(1), outputs.size(2))\n",
    "\n",
    "                loss = loss_fn(outputs, targets)\n",
    "                total_val_loss += loss.item()\n",
    "\n",
    "        avg_val_loss = total_val_loss / len(valdloader)\n",
    "        val_losses.append(avg_val_loss)\n",
    "\n",
    "        print(f\"Epoch {epoch + 1}/{epochs}, Train Loss: {avg_train_loss:.4f}, Val Loss: {avg_val_loss:.4f}\")\n",
    "\n",
    "    return model, train_losses, val_losses"
   ]
  },
  {
   "cell_type": "code",
   "execution_count": null,
   "metadata": {},
   "outputs": [],
   "source": [
    "model, tls, vls = train_causal(train_dloader, val_dloader, config_dict, device)\n",
    "plot_losses(tls, vls)"
   ]
  },
  {
   "cell_type": "code",
   "execution_count": null,
   "metadata": {},
   "outputs": [],
   "source": [
    "from utils import save_embedding_layer\n",
    "emb_data_dir = '/Home/siv33/vbo084/EloGuessr/models/embeddings'\n",
    "save_embedding_layer(model, os.path.join(emb_data_dir, 'decoder_emb512_elite_medium.pt'))"
   ]
  }
 ],
 "metadata": {
  "kernelspec": {
   "display_name": "lmlogic",
   "language": "python",
   "name": "python3"
  },
  "language_info": {
   "codemirror_mode": {
    "name": "ipython",
    "version": 3
   },
   "file_extension": ".py",
   "mimetype": "text/x-python",
   "name": "python",
   "nbconvert_exporter": "python",
   "pygments_lexer": "ipython3",
   "version": "3.12.0"
  }
 },
 "nbformat": 4,
 "nbformat_minor": 2
}
